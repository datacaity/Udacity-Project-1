{
 "cells": [
  {
   "cell_type": "markdown",
   "id": "23b55362-8704-4da2-908d-06447162fd58",
   "metadata": {},
   "source": [
    "# Udacity Project: Write A Data Science Blog Post\n",
    "This project is going to explore Boston AirBnB data from the perspective of someone looking to invest in a new property."
   ]
  },
  {
   "cell_type": "markdown",
   "id": "21faed00-645a-4294-8f79-d0f6d44226fb",
   "metadata": {},
   "source": [
    "## Section 1: Business Understanding\n",
    "As a hypothetical Bostonian, I'm looking to invest in a property to turn into a short term rental. Boston is a big city, so I'd like to look at the existing Boston listings to better understand what I should be looking for in a property and how I can prepare to adjust my prices for seasonality.\n",
    "\n",
    "#### Question 1: Where should I tell my realtor to start looking for properties - which Boston neighborhoods yield higher list prices? Are there certain types of properties that influence list prices?\n",
    "#### Question 2: What kind of internal features should I consider in a property? Does how many bedrooms and bathrooms influence list price?\n",
    "#### Question 3: How can I expect to adjust my prices throughout the year? What is the seasonality by month for list prices?"
   ]
  },
  {
   "cell_type": "markdown",
   "id": "b4c25db1-2a2d-4f99-ae7f-1adedf5644cd",
   "metadata": {},
   "source": [
    "### Initial Package Imports and Data (Boston Airbnb)"
   ]
  },
  {
   "cell_type": "code",
   "execution_count": 314,
   "id": "684863fa-5210-4d05-ab37-7d55251596f5",
   "metadata": {},
   "outputs": [],
   "source": [
    "import numpy as np\n",
    "import pandas as pd\n",
    "import plotly\n",
    "import plotly.express as px\n",
    "import seaborn as sns\n",
    "import matplotlib.pyplot as plt"
   ]
  },
  {
   "cell_type": "markdown",
   "id": "053cac25-8b7d-4577-bbd2-e2edaac9f89d",
   "metadata": {},
   "source": [
    "## Section 2: Data Understanding\n",
    "### Pulling in both Calendar and Listings datasets"
   ]
  },
  {
   "cell_type": "code",
   "execution_count": 316,
   "id": "7f3eaf69-e121-47d4-a801-5468af373ce0",
   "metadata": {},
   "outputs": [
    {
     "data": {
      "text/html": [
       "<div>\n",
       "<style scoped>\n",
       "    .dataframe tbody tr th:only-of-type {\n",
       "        vertical-align: middle;\n",
       "    }\n",
       "\n",
       "    .dataframe tbody tr th {\n",
       "        vertical-align: top;\n",
       "    }\n",
       "\n",
       "    .dataframe thead th {\n",
       "        text-align: right;\n",
       "    }\n",
       "</style>\n",
       "<table border=\"1\" class=\"dataframe\">\n",
       "  <thead>\n",
       "    <tr style=\"text-align: right;\">\n",
       "      <th></th>\n",
       "      <th>listing_id</th>\n",
       "      <th>date</th>\n",
       "      <th>available</th>\n",
       "      <th>price</th>\n",
       "    </tr>\n",
       "  </thead>\n",
       "  <tbody>\n",
       "    <tr>\n",
       "      <th>0</th>\n",
       "      <td>12147973</td>\n",
       "      <td>2017-09-05</td>\n",
       "      <td>f</td>\n",
       "      <td>NaN</td>\n",
       "    </tr>\n",
       "    <tr>\n",
       "      <th>1</th>\n",
       "      <td>12147973</td>\n",
       "      <td>2017-09-04</td>\n",
       "      <td>f</td>\n",
       "      <td>NaN</td>\n",
       "    </tr>\n",
       "    <tr>\n",
       "      <th>2</th>\n",
       "      <td>12147973</td>\n",
       "      <td>2017-09-03</td>\n",
       "      <td>f</td>\n",
       "      <td>NaN</td>\n",
       "    </tr>\n",
       "    <tr>\n",
       "      <th>3</th>\n",
       "      <td>12147973</td>\n",
       "      <td>2017-09-02</td>\n",
       "      <td>f</td>\n",
       "      <td>NaN</td>\n",
       "    </tr>\n",
       "    <tr>\n",
       "      <th>4</th>\n",
       "      <td>12147973</td>\n",
       "      <td>2017-09-01</td>\n",
       "      <td>f</td>\n",
       "      <td>NaN</td>\n",
       "    </tr>\n",
       "  </tbody>\n",
       "</table>\n",
       "</div>"
      ],
      "text/plain": [
       "   listing_id        date available price\n",
       "0    12147973  2017-09-05         f   NaN\n",
       "1    12147973  2017-09-04         f   NaN\n",
       "2    12147973  2017-09-03         f   NaN\n",
       "3    12147973  2017-09-02         f   NaN\n",
       "4    12147973  2017-09-01         f   NaN"
      ]
     },
     "execution_count": 316,
     "metadata": {},
     "output_type": "execute_result"
    }
   ],
   "source": [
    "# Reading in Calendar dataset\n",
    "cal_dat = pd.read_csv('calendar.csv')\n",
    "\n",
    "# viewing first few rows\n",
    "cal_dat.head()"
   ]
  },
  {
   "cell_type": "code",
   "execution_count": 318,
   "id": "02f77f1a-1292-4fdc-b891-b8428c195bd9",
   "metadata": {},
   "outputs": [
    {
     "data": {
      "text/html": [
       "<div>\n",
       "<style scoped>\n",
       "    .dataframe tbody tr th:only-of-type {\n",
       "        vertical-align: middle;\n",
       "    }\n",
       "\n",
       "    .dataframe tbody tr th {\n",
       "        vertical-align: top;\n",
       "    }\n",
       "\n",
       "    .dataframe thead th {\n",
       "        text-align: right;\n",
       "    }\n",
       "</style>\n",
       "<table border=\"1\" class=\"dataframe\">\n",
       "  <thead>\n",
       "    <tr style=\"text-align: right;\">\n",
       "      <th></th>\n",
       "      <th>id</th>\n",
       "      <th>listing_url</th>\n",
       "      <th>scrape_id</th>\n",
       "      <th>last_scraped</th>\n",
       "      <th>name</th>\n",
       "      <th>summary</th>\n",
       "      <th>space</th>\n",
       "      <th>description</th>\n",
       "      <th>experiences_offered</th>\n",
       "      <th>neighborhood_overview</th>\n",
       "      <th>...</th>\n",
       "      <th>review_scores_value</th>\n",
       "      <th>requires_license</th>\n",
       "      <th>license</th>\n",
       "      <th>jurisdiction_names</th>\n",
       "      <th>instant_bookable</th>\n",
       "      <th>cancellation_policy</th>\n",
       "      <th>require_guest_profile_picture</th>\n",
       "      <th>require_guest_phone_verification</th>\n",
       "      <th>calculated_host_listings_count</th>\n",
       "      <th>reviews_per_month</th>\n",
       "    </tr>\n",
       "  </thead>\n",
       "  <tbody>\n",
       "    <tr>\n",
       "      <th>0</th>\n",
       "      <td>12147973</td>\n",
       "      <td>https://www.airbnb.com/rooms/12147973</td>\n",
       "      <td>20160906204935</td>\n",
       "      <td>2016-09-07</td>\n",
       "      <td>Sunny Bungalow in the City</td>\n",
       "      <td>Cozy, sunny, family home.  Master bedroom high...</td>\n",
       "      <td>The house has an open and cozy feel at the sam...</td>\n",
       "      <td>Cozy, sunny, family home.  Master bedroom high...</td>\n",
       "      <td>none</td>\n",
       "      <td>Roslindale is quiet, convenient and friendly. ...</td>\n",
       "      <td>...</td>\n",
       "      <td>NaN</td>\n",
       "      <td>f</td>\n",
       "      <td>NaN</td>\n",
       "      <td>NaN</td>\n",
       "      <td>f</td>\n",
       "      <td>moderate</td>\n",
       "      <td>f</td>\n",
       "      <td>f</td>\n",
       "      <td>1</td>\n",
       "      <td>NaN</td>\n",
       "    </tr>\n",
       "    <tr>\n",
       "      <th>1</th>\n",
       "      <td>3075044</td>\n",
       "      <td>https://www.airbnb.com/rooms/3075044</td>\n",
       "      <td>20160906204935</td>\n",
       "      <td>2016-09-07</td>\n",
       "      <td>Charming room in pet friendly apt</td>\n",
       "      <td>Charming and quiet room in a second floor 1910...</td>\n",
       "      <td>Small but cozy and quite room with a full size...</td>\n",
       "      <td>Charming and quiet room in a second floor 1910...</td>\n",
       "      <td>none</td>\n",
       "      <td>The room is in Roslindale, a diverse and prima...</td>\n",
       "      <td>...</td>\n",
       "      <td>9.0</td>\n",
       "      <td>f</td>\n",
       "      <td>NaN</td>\n",
       "      <td>NaN</td>\n",
       "      <td>t</td>\n",
       "      <td>moderate</td>\n",
       "      <td>f</td>\n",
       "      <td>f</td>\n",
       "      <td>1</td>\n",
       "      <td>1.30</td>\n",
       "    </tr>\n",
       "    <tr>\n",
       "      <th>2</th>\n",
       "      <td>6976</td>\n",
       "      <td>https://www.airbnb.com/rooms/6976</td>\n",
       "      <td>20160906204935</td>\n",
       "      <td>2016-09-07</td>\n",
       "      <td>Mexican Folk Art Haven in Boston</td>\n",
       "      <td>Come stay with a friendly, middle-aged guy in ...</td>\n",
       "      <td>Come stay with a friendly, middle-aged guy in ...</td>\n",
       "      <td>Come stay with a friendly, middle-aged guy in ...</td>\n",
       "      <td>none</td>\n",
       "      <td>The LOCATION: Roslindale is a safe and diverse...</td>\n",
       "      <td>...</td>\n",
       "      <td>10.0</td>\n",
       "      <td>f</td>\n",
       "      <td>NaN</td>\n",
       "      <td>NaN</td>\n",
       "      <td>f</td>\n",
       "      <td>moderate</td>\n",
       "      <td>t</td>\n",
       "      <td>f</td>\n",
       "      <td>1</td>\n",
       "      <td>0.47</td>\n",
       "    </tr>\n",
       "    <tr>\n",
       "      <th>3</th>\n",
       "      <td>1436513</td>\n",
       "      <td>https://www.airbnb.com/rooms/1436513</td>\n",
       "      <td>20160906204935</td>\n",
       "      <td>2016-09-07</td>\n",
       "      <td>Spacious Sunny Bedroom Suite in Historic Home</td>\n",
       "      <td>Come experience the comforts of home away from...</td>\n",
       "      <td>Most places you find in Boston are small howev...</td>\n",
       "      <td>Come experience the comforts of home away from...</td>\n",
       "      <td>none</td>\n",
       "      <td>Roslindale is a lovely little neighborhood loc...</td>\n",
       "      <td>...</td>\n",
       "      <td>10.0</td>\n",
       "      <td>f</td>\n",
       "      <td>NaN</td>\n",
       "      <td>NaN</td>\n",
       "      <td>f</td>\n",
       "      <td>moderate</td>\n",
       "      <td>f</td>\n",
       "      <td>f</td>\n",
       "      <td>1</td>\n",
       "      <td>1.00</td>\n",
       "    </tr>\n",
       "    <tr>\n",
       "      <th>4</th>\n",
       "      <td>7651065</td>\n",
       "      <td>https://www.airbnb.com/rooms/7651065</td>\n",
       "      <td>20160906204935</td>\n",
       "      <td>2016-09-07</td>\n",
       "      <td>Come Home to Boston</td>\n",
       "      <td>My comfy, clean and relaxing home is one block...</td>\n",
       "      <td>Clean, attractive, private room, one block fro...</td>\n",
       "      <td>My comfy, clean and relaxing home is one block...</td>\n",
       "      <td>none</td>\n",
       "      <td>I love the proximity to downtown, the neighbor...</td>\n",
       "      <td>...</td>\n",
       "      <td>10.0</td>\n",
       "      <td>f</td>\n",
       "      <td>NaN</td>\n",
       "      <td>NaN</td>\n",
       "      <td>f</td>\n",
       "      <td>flexible</td>\n",
       "      <td>f</td>\n",
       "      <td>f</td>\n",
       "      <td>1</td>\n",
       "      <td>2.25</td>\n",
       "    </tr>\n",
       "  </tbody>\n",
       "</table>\n",
       "<p>5 rows × 95 columns</p>\n",
       "</div>"
      ],
      "text/plain": [
       "         id                            listing_url       scrape_id  \\\n",
       "0  12147973  https://www.airbnb.com/rooms/12147973  20160906204935   \n",
       "1   3075044   https://www.airbnb.com/rooms/3075044  20160906204935   \n",
       "2      6976      https://www.airbnb.com/rooms/6976  20160906204935   \n",
       "3   1436513   https://www.airbnb.com/rooms/1436513  20160906204935   \n",
       "4   7651065   https://www.airbnb.com/rooms/7651065  20160906204935   \n",
       "\n",
       "  last_scraped                                           name  \\\n",
       "0   2016-09-07                     Sunny Bungalow in the City   \n",
       "1   2016-09-07              Charming room in pet friendly apt   \n",
       "2   2016-09-07               Mexican Folk Art Haven in Boston   \n",
       "3   2016-09-07  Spacious Sunny Bedroom Suite in Historic Home   \n",
       "4   2016-09-07                            Come Home to Boston   \n",
       "\n",
       "                                             summary  \\\n",
       "0  Cozy, sunny, family home.  Master bedroom high...   \n",
       "1  Charming and quiet room in a second floor 1910...   \n",
       "2  Come stay with a friendly, middle-aged guy in ...   \n",
       "3  Come experience the comforts of home away from...   \n",
       "4  My comfy, clean and relaxing home is one block...   \n",
       "\n",
       "                                               space  \\\n",
       "0  The house has an open and cozy feel at the sam...   \n",
       "1  Small but cozy and quite room with a full size...   \n",
       "2  Come stay with a friendly, middle-aged guy in ...   \n",
       "3  Most places you find in Boston are small howev...   \n",
       "4  Clean, attractive, private room, one block fro...   \n",
       "\n",
       "                                         description experiences_offered  \\\n",
       "0  Cozy, sunny, family home.  Master bedroom high...                none   \n",
       "1  Charming and quiet room in a second floor 1910...                none   \n",
       "2  Come stay with a friendly, middle-aged guy in ...                none   \n",
       "3  Come experience the comforts of home away from...                none   \n",
       "4  My comfy, clean and relaxing home is one block...                none   \n",
       "\n",
       "                               neighborhood_overview  ... review_scores_value  \\\n",
       "0  Roslindale is quiet, convenient and friendly. ...  ...                 NaN   \n",
       "1  The room is in Roslindale, a diverse and prima...  ...                 9.0   \n",
       "2  The LOCATION: Roslindale is a safe and diverse...  ...                10.0   \n",
       "3  Roslindale is a lovely little neighborhood loc...  ...                10.0   \n",
       "4  I love the proximity to downtown, the neighbor...  ...                10.0   \n",
       "\n",
       "  requires_license license jurisdiction_names instant_bookable  \\\n",
       "0                f     NaN                NaN                f   \n",
       "1                f     NaN                NaN                t   \n",
       "2                f     NaN                NaN                f   \n",
       "3                f     NaN                NaN                f   \n",
       "4                f     NaN                NaN                f   \n",
       "\n",
       "  cancellation_policy require_guest_profile_picture  \\\n",
       "0            moderate                             f   \n",
       "1            moderate                             f   \n",
       "2            moderate                             t   \n",
       "3            moderate                             f   \n",
       "4            flexible                             f   \n",
       "\n",
       "  require_guest_phone_verification calculated_host_listings_count  \\\n",
       "0                                f                              1   \n",
       "1                                f                              1   \n",
       "2                                f                              1   \n",
       "3                                f                              1   \n",
       "4                                f                              1   \n",
       "\n",
       "   reviews_per_month  \n",
       "0                NaN  \n",
       "1               1.30  \n",
       "2               0.47  \n",
       "3               1.00  \n",
       "4               2.25  \n",
       "\n",
       "[5 rows x 95 columns]"
      ]
     },
     "execution_count": 318,
     "metadata": {},
     "output_type": "execute_result"
    }
   ],
   "source": [
    "# Reading in Listings dataset\n",
    "list_dat = pd.read_csv('listings.csv')\n",
    "\n",
    "# viewing first few rows\n",
    "list_dat.head()"
   ]
  },
  {
   "cell_type": "markdown",
   "id": "6e81a3ba-330b-44f2-8505-fd3170118919",
   "metadata": {},
   "source": [
    "### Getting to know the datasets"
   ]
  },
  {
   "cell_type": "code",
   "execution_count": 320,
   "id": "cfdbfb83-08b7-4067-8a28-859ef98c4943",
   "metadata": {},
   "outputs": [
    {
     "data": {
      "text/html": [
       "<div>\n",
       "<style scoped>\n",
       "    .dataframe tbody tr th:only-of-type {\n",
       "        vertical-align: middle;\n",
       "    }\n",
       "\n",
       "    .dataframe tbody tr th {\n",
       "        vertical-align: top;\n",
       "    }\n",
       "\n",
       "    .dataframe thead th {\n",
       "        text-align: right;\n",
       "    }\n",
       "</style>\n",
       "<table border=\"1\" class=\"dataframe\">\n",
       "  <thead>\n",
       "    <tr style=\"text-align: right;\">\n",
       "      <th></th>\n",
       "      <th>listing_id</th>\n",
       "    </tr>\n",
       "  </thead>\n",
       "  <tbody>\n",
       "    <tr>\n",
       "      <th>count</th>\n",
       "      <td>1.308890e+06</td>\n",
       "    </tr>\n",
       "    <tr>\n",
       "      <th>mean</th>\n",
       "      <td>8.442118e+06</td>\n",
       "    </tr>\n",
       "    <tr>\n",
       "      <th>std</th>\n",
       "      <td>4.500149e+06</td>\n",
       "    </tr>\n",
       "    <tr>\n",
       "      <th>min</th>\n",
       "      <td>3.353000e+03</td>\n",
       "    </tr>\n",
       "    <tr>\n",
       "      <th>25%</th>\n",
       "      <td>4.679319e+06</td>\n",
       "    </tr>\n",
       "    <tr>\n",
       "      <th>50%</th>\n",
       "      <td>8.578710e+06</td>\n",
       "    </tr>\n",
       "    <tr>\n",
       "      <th>75%</th>\n",
       "      <td>1.279603e+07</td>\n",
       "    </tr>\n",
       "    <tr>\n",
       "      <th>max</th>\n",
       "      <td>1.493346e+07</td>\n",
       "    </tr>\n",
       "  </tbody>\n",
       "</table>\n",
       "</div>"
      ],
      "text/plain": [
       "         listing_id\n",
       "count  1.308890e+06\n",
       "mean   8.442118e+06\n",
       "std    4.500149e+06\n",
       "min    3.353000e+03\n",
       "25%    4.679319e+06\n",
       "50%    8.578710e+06\n",
       "75%    1.279603e+07\n",
       "max    1.493346e+07"
      ]
     },
     "execution_count": 320,
     "metadata": {},
     "output_type": "execute_result"
    }
   ],
   "source": [
    "cal_dat.describe()"
   ]
  },
  {
   "cell_type": "code",
   "execution_count": 322,
   "id": "12988c7b-c5e8-46d8-a41c-13db2da24fe6",
   "metadata": {},
   "outputs": [
    {
     "name": "stdout",
     "output_type": "stream",
     "text": [
      "<class 'pandas.core.frame.DataFrame'>\n",
      "RangeIndex: 1308890 entries, 0 to 1308889\n",
      "Data columns (total 4 columns):\n",
      " #   Column      Non-Null Count    Dtype \n",
      "---  ------      --------------    ----- \n",
      " 0   listing_id  1308890 non-null  int64 \n",
      " 1   date        1308890 non-null  object\n",
      " 2   available   1308890 non-null  object\n",
      " 3   price       643037 non-null   object\n",
      "dtypes: int64(1), object(3)\n",
      "memory usage: 39.9+ MB\n"
     ]
    }
   ],
   "source": [
    "cal_dat.info()"
   ]
  },
  {
   "cell_type": "code",
   "execution_count": 324,
   "id": "86512e5a-ea8d-4794-92c2-79e75a3548c2",
   "metadata": {},
   "outputs": [
    {
     "data": {
      "text/html": [
       "<div>\n",
       "<style scoped>\n",
       "    .dataframe tbody tr th:only-of-type {\n",
       "        vertical-align: middle;\n",
       "    }\n",
       "\n",
       "    .dataframe tbody tr th {\n",
       "        vertical-align: top;\n",
       "    }\n",
       "\n",
       "    .dataframe thead th {\n",
       "        text-align: right;\n",
       "    }\n",
       "</style>\n",
       "<table border=\"1\" class=\"dataframe\">\n",
       "  <thead>\n",
       "    <tr style=\"text-align: right;\">\n",
       "      <th></th>\n",
       "      <th>id</th>\n",
       "      <th>scrape_id</th>\n",
       "      <th>host_id</th>\n",
       "      <th>host_listings_count</th>\n",
       "      <th>host_total_listings_count</th>\n",
       "      <th>neighbourhood_group_cleansed</th>\n",
       "      <th>latitude</th>\n",
       "      <th>longitude</th>\n",
       "      <th>accommodates</th>\n",
       "      <th>bathrooms</th>\n",
       "      <th>...</th>\n",
       "      <th>review_scores_accuracy</th>\n",
       "      <th>review_scores_cleanliness</th>\n",
       "      <th>review_scores_checkin</th>\n",
       "      <th>review_scores_communication</th>\n",
       "      <th>review_scores_location</th>\n",
       "      <th>review_scores_value</th>\n",
       "      <th>license</th>\n",
       "      <th>jurisdiction_names</th>\n",
       "      <th>calculated_host_listings_count</th>\n",
       "      <th>reviews_per_month</th>\n",
       "    </tr>\n",
       "  </thead>\n",
       "  <tbody>\n",
       "    <tr>\n",
       "      <th>count</th>\n",
       "      <td>3.585000e+03</td>\n",
       "      <td>3.585000e+03</td>\n",
       "      <td>3.585000e+03</td>\n",
       "      <td>3585.000000</td>\n",
       "      <td>3585.000000</td>\n",
       "      <td>0.0</td>\n",
       "      <td>3585.000000</td>\n",
       "      <td>3585.000000</td>\n",
       "      <td>3585.000000</td>\n",
       "      <td>3571.000000</td>\n",
       "      <td>...</td>\n",
       "      <td>2762.000000</td>\n",
       "      <td>2767.000000</td>\n",
       "      <td>2765.000000</td>\n",
       "      <td>2767.000000</td>\n",
       "      <td>2763.000000</td>\n",
       "      <td>2764.000000</td>\n",
       "      <td>0.0</td>\n",
       "      <td>0.0</td>\n",
       "      <td>3585.000000</td>\n",
       "      <td>2829.000000</td>\n",
       "    </tr>\n",
       "    <tr>\n",
       "      <th>mean</th>\n",
       "      <td>8.440875e+06</td>\n",
       "      <td>2.016091e+13</td>\n",
       "      <td>2.492311e+07</td>\n",
       "      <td>58.902371</td>\n",
       "      <td>58.902371</td>\n",
       "      <td>NaN</td>\n",
       "      <td>42.340032</td>\n",
       "      <td>-71.084818</td>\n",
       "      <td>3.041283</td>\n",
       "      <td>1.221647</td>\n",
       "      <td>...</td>\n",
       "      <td>9.431571</td>\n",
       "      <td>9.258041</td>\n",
       "      <td>9.646293</td>\n",
       "      <td>9.646549</td>\n",
       "      <td>9.414043</td>\n",
       "      <td>9.168234</td>\n",
       "      <td>NaN</td>\n",
       "      <td>NaN</td>\n",
       "      <td>12.733891</td>\n",
       "      <td>1.970908</td>\n",
       "    </tr>\n",
       "    <tr>\n",
       "      <th>std</th>\n",
       "      <td>4.500787e+06</td>\n",
       "      <td>8.516813e-01</td>\n",
       "      <td>2.292781e+07</td>\n",
       "      <td>171.119663</td>\n",
       "      <td>171.119663</td>\n",
       "      <td>NaN</td>\n",
       "      <td>0.024403</td>\n",
       "      <td>0.031565</td>\n",
       "      <td>1.778929</td>\n",
       "      <td>0.501487</td>\n",
       "      <td>...</td>\n",
       "      <td>0.931863</td>\n",
       "      <td>1.168977</td>\n",
       "      <td>0.762753</td>\n",
       "      <td>0.735507</td>\n",
       "      <td>0.903436</td>\n",
       "      <td>1.011116</td>\n",
       "      <td>NaN</td>\n",
       "      <td>NaN</td>\n",
       "      <td>29.415076</td>\n",
       "      <td>2.120561</td>\n",
       "    </tr>\n",
       "    <tr>\n",
       "      <th>min</th>\n",
       "      <td>3.353000e+03</td>\n",
       "      <td>2.016091e+13</td>\n",
       "      <td>4.240000e+03</td>\n",
       "      <td>0.000000</td>\n",
       "      <td>0.000000</td>\n",
       "      <td>NaN</td>\n",
       "      <td>42.235942</td>\n",
       "      <td>-71.171789</td>\n",
       "      <td>1.000000</td>\n",
       "      <td>0.000000</td>\n",
       "      <td>...</td>\n",
       "      <td>2.000000</td>\n",
       "      <td>2.000000</td>\n",
       "      <td>2.000000</td>\n",
       "      <td>4.000000</td>\n",
       "      <td>2.000000</td>\n",
       "      <td>2.000000</td>\n",
       "      <td>NaN</td>\n",
       "      <td>NaN</td>\n",
       "      <td>1.000000</td>\n",
       "      <td>0.010000</td>\n",
       "    </tr>\n",
       "    <tr>\n",
       "      <th>25%</th>\n",
       "      <td>4.679319e+06</td>\n",
       "      <td>2.016091e+13</td>\n",
       "      <td>6.103425e+06</td>\n",
       "      <td>1.000000</td>\n",
       "      <td>1.000000</td>\n",
       "      <td>NaN</td>\n",
       "      <td>42.329995</td>\n",
       "      <td>-71.105083</td>\n",
       "      <td>2.000000</td>\n",
       "      <td>1.000000</td>\n",
       "      <td>...</td>\n",
       "      <td>9.000000</td>\n",
       "      <td>9.000000</td>\n",
       "      <td>9.000000</td>\n",
       "      <td>9.000000</td>\n",
       "      <td>9.000000</td>\n",
       "      <td>9.000000</td>\n",
       "      <td>NaN</td>\n",
       "      <td>NaN</td>\n",
       "      <td>1.000000</td>\n",
       "      <td>0.480000</td>\n",
       "    </tr>\n",
       "    <tr>\n",
       "      <th>50%</th>\n",
       "      <td>8.577620e+06</td>\n",
       "      <td>2.016091e+13</td>\n",
       "      <td>1.928100e+07</td>\n",
       "      <td>2.000000</td>\n",
       "      <td>2.000000</td>\n",
       "      <td>NaN</td>\n",
       "      <td>42.345201</td>\n",
       "      <td>-71.078429</td>\n",
       "      <td>2.000000</td>\n",
       "      <td>1.000000</td>\n",
       "      <td>...</td>\n",
       "      <td>10.000000</td>\n",
       "      <td>10.000000</td>\n",
       "      <td>10.000000</td>\n",
       "      <td>10.000000</td>\n",
       "      <td>10.000000</td>\n",
       "      <td>9.000000</td>\n",
       "      <td>NaN</td>\n",
       "      <td>NaN</td>\n",
       "      <td>2.000000</td>\n",
       "      <td>1.170000</td>\n",
       "    </tr>\n",
       "    <tr>\n",
       "      <th>75%</th>\n",
       "      <td>1.278953e+07</td>\n",
       "      <td>2.016091e+13</td>\n",
       "      <td>3.622147e+07</td>\n",
       "      <td>7.000000</td>\n",
       "      <td>7.000000</td>\n",
       "      <td>NaN</td>\n",
       "      <td>42.354685</td>\n",
       "      <td>-71.062155</td>\n",
       "      <td>4.000000</td>\n",
       "      <td>1.000000</td>\n",
       "      <td>...</td>\n",
       "      <td>10.000000</td>\n",
       "      <td>10.000000</td>\n",
       "      <td>10.000000</td>\n",
       "      <td>10.000000</td>\n",
       "      <td>10.000000</td>\n",
       "      <td>10.000000</td>\n",
       "      <td>NaN</td>\n",
       "      <td>NaN</td>\n",
       "      <td>6.000000</td>\n",
       "      <td>2.720000</td>\n",
       "    </tr>\n",
       "    <tr>\n",
       "      <th>max</th>\n",
       "      <td>1.493346e+07</td>\n",
       "      <td>2.016091e+13</td>\n",
       "      <td>9.385411e+07</td>\n",
       "      <td>749.000000</td>\n",
       "      <td>749.000000</td>\n",
       "      <td>NaN</td>\n",
       "      <td>42.389982</td>\n",
       "      <td>-71.000100</td>\n",
       "      <td>16.000000</td>\n",
       "      <td>6.000000</td>\n",
       "      <td>...</td>\n",
       "      <td>10.000000</td>\n",
       "      <td>10.000000</td>\n",
       "      <td>10.000000</td>\n",
       "      <td>10.000000</td>\n",
       "      <td>10.000000</td>\n",
       "      <td>10.000000</td>\n",
       "      <td>NaN</td>\n",
       "      <td>NaN</td>\n",
       "      <td>136.000000</td>\n",
       "      <td>19.150000</td>\n",
       "    </tr>\n",
       "  </tbody>\n",
       "</table>\n",
       "<p>8 rows × 33 columns</p>\n",
       "</div>"
      ],
      "text/plain": [
       "                 id     scrape_id       host_id  host_listings_count  \\\n",
       "count  3.585000e+03  3.585000e+03  3.585000e+03          3585.000000   \n",
       "mean   8.440875e+06  2.016091e+13  2.492311e+07            58.902371   \n",
       "std    4.500787e+06  8.516813e-01  2.292781e+07           171.119663   \n",
       "min    3.353000e+03  2.016091e+13  4.240000e+03             0.000000   \n",
       "25%    4.679319e+06  2.016091e+13  6.103425e+06             1.000000   \n",
       "50%    8.577620e+06  2.016091e+13  1.928100e+07             2.000000   \n",
       "75%    1.278953e+07  2.016091e+13  3.622147e+07             7.000000   \n",
       "max    1.493346e+07  2.016091e+13  9.385411e+07           749.000000   \n",
       "\n",
       "       host_total_listings_count  neighbourhood_group_cleansed     latitude  \\\n",
       "count                3585.000000                           0.0  3585.000000   \n",
       "mean                   58.902371                           NaN    42.340032   \n",
       "std                   171.119663                           NaN     0.024403   \n",
       "min                     0.000000                           NaN    42.235942   \n",
       "25%                     1.000000                           NaN    42.329995   \n",
       "50%                     2.000000                           NaN    42.345201   \n",
       "75%                     7.000000                           NaN    42.354685   \n",
       "max                   749.000000                           NaN    42.389982   \n",
       "\n",
       "         longitude  accommodates    bathrooms  ...  review_scores_accuracy  \\\n",
       "count  3585.000000   3585.000000  3571.000000  ...             2762.000000   \n",
       "mean    -71.084818      3.041283     1.221647  ...                9.431571   \n",
       "std       0.031565      1.778929     0.501487  ...                0.931863   \n",
       "min     -71.171789      1.000000     0.000000  ...                2.000000   \n",
       "25%     -71.105083      2.000000     1.000000  ...                9.000000   \n",
       "50%     -71.078429      2.000000     1.000000  ...               10.000000   \n",
       "75%     -71.062155      4.000000     1.000000  ...               10.000000   \n",
       "max     -71.000100     16.000000     6.000000  ...               10.000000   \n",
       "\n",
       "       review_scores_cleanliness  review_scores_checkin  \\\n",
       "count                2767.000000            2765.000000   \n",
       "mean                    9.258041               9.646293   \n",
       "std                     1.168977               0.762753   \n",
       "min                     2.000000               2.000000   \n",
       "25%                     9.000000               9.000000   \n",
       "50%                    10.000000              10.000000   \n",
       "75%                    10.000000              10.000000   \n",
       "max                    10.000000              10.000000   \n",
       "\n",
       "       review_scores_communication  review_scores_location  \\\n",
       "count                  2767.000000             2763.000000   \n",
       "mean                      9.646549                9.414043   \n",
       "std                       0.735507                0.903436   \n",
       "min                       4.000000                2.000000   \n",
       "25%                       9.000000                9.000000   \n",
       "50%                      10.000000               10.000000   \n",
       "75%                      10.000000               10.000000   \n",
       "max                      10.000000               10.000000   \n",
       "\n",
       "       review_scores_value  license  jurisdiction_names  \\\n",
       "count          2764.000000      0.0                 0.0   \n",
       "mean              9.168234      NaN                 NaN   \n",
       "std               1.011116      NaN                 NaN   \n",
       "min               2.000000      NaN                 NaN   \n",
       "25%               9.000000      NaN                 NaN   \n",
       "50%               9.000000      NaN                 NaN   \n",
       "75%              10.000000      NaN                 NaN   \n",
       "max              10.000000      NaN                 NaN   \n",
       "\n",
       "       calculated_host_listings_count  reviews_per_month  \n",
       "count                     3585.000000        2829.000000  \n",
       "mean                        12.733891           1.970908  \n",
       "std                         29.415076           2.120561  \n",
       "min                          1.000000           0.010000  \n",
       "25%                          1.000000           0.480000  \n",
       "50%                          2.000000           1.170000  \n",
       "75%                          6.000000           2.720000  \n",
       "max                        136.000000          19.150000  \n",
       "\n",
       "[8 rows x 33 columns]"
      ]
     },
     "execution_count": 324,
     "metadata": {},
     "output_type": "execute_result"
    }
   ],
   "source": [
    "list_dat.describe()"
   ]
  },
  {
   "cell_type": "code",
   "execution_count": 326,
   "id": "1904d036-4e6a-4576-ad9a-75710647bb9d",
   "metadata": {},
   "outputs": [
    {
     "name": "stdout",
     "output_type": "stream",
     "text": [
      "<class 'pandas.core.frame.DataFrame'>\n",
      "RangeIndex: 3585 entries, 0 to 3584\n",
      "Data columns (total 95 columns):\n",
      " #   Column                            Non-Null Count  Dtype  \n",
      "---  ------                            --------------  -----  \n",
      " 0   id                                3585 non-null   int64  \n",
      " 1   listing_url                       3585 non-null   object \n",
      " 2   scrape_id                         3585 non-null   int64  \n",
      " 3   last_scraped                      3585 non-null   object \n",
      " 4   name                              3585 non-null   object \n",
      " 5   summary                           3442 non-null   object \n",
      " 6   space                             2528 non-null   object \n",
      " 7   description                       3585 non-null   object \n",
      " 8   experiences_offered               3585 non-null   object \n",
      " 9   neighborhood_overview             2170 non-null   object \n",
      " 10  notes                             1610 non-null   object \n",
      " 11  transit                           2295 non-null   object \n",
      " 12  access                            2096 non-null   object \n",
      " 13  interaction                       2031 non-null   object \n",
      " 14  house_rules                       2393 non-null   object \n",
      " 15  thumbnail_url                     2986 non-null   object \n",
      " 16  medium_url                        2986 non-null   object \n",
      " 17  picture_url                       3585 non-null   object \n",
      " 18  xl_picture_url                    2986 non-null   object \n",
      " 19  host_id                           3585 non-null   int64  \n",
      " 20  host_url                          3585 non-null   object \n",
      " 21  host_name                         3585 non-null   object \n",
      " 22  host_since                        3585 non-null   object \n",
      " 23  host_location                     3574 non-null   object \n",
      " 24  host_about                        2276 non-null   object \n",
      " 25  host_response_time                3114 non-null   object \n",
      " 26  host_response_rate                3114 non-null   object \n",
      " 27  host_acceptance_rate              3114 non-null   object \n",
      " 28  host_is_superhost                 3585 non-null   object \n",
      " 29  host_thumbnail_url                3585 non-null   object \n",
      " 30  host_picture_url                  3585 non-null   object \n",
      " 31  host_neighbourhood                3246 non-null   object \n",
      " 32  host_listings_count               3585 non-null   int64  \n",
      " 33  host_total_listings_count         3585 non-null   int64  \n",
      " 34  host_verifications                3585 non-null   object \n",
      " 35  host_has_profile_pic              3585 non-null   object \n",
      " 36  host_identity_verified            3585 non-null   object \n",
      " 37  street                            3585 non-null   object \n",
      " 38  neighbourhood                     3042 non-null   object \n",
      " 39  neighbourhood_cleansed            3585 non-null   object \n",
      " 40  neighbourhood_group_cleansed      0 non-null      float64\n",
      " 41  city                              3583 non-null   object \n",
      " 42  state                             3585 non-null   object \n",
      " 43  zipcode                           3547 non-null   object \n",
      " 44  market                            3571 non-null   object \n",
      " 45  smart_location                    3585 non-null   object \n",
      " 46  country_code                      3585 non-null   object \n",
      " 47  country                           3585 non-null   object \n",
      " 48  latitude                          3585 non-null   float64\n",
      " 49  longitude                         3585 non-null   float64\n",
      " 50  is_location_exact                 3585 non-null   object \n",
      " 51  property_type                     3582 non-null   object \n",
      " 52  room_type                         3585 non-null   object \n",
      " 53  accommodates                      3585 non-null   int64  \n",
      " 54  bathrooms                         3571 non-null   float64\n",
      " 55  bedrooms                          3575 non-null   float64\n",
      " 56  beds                              3576 non-null   float64\n",
      " 57  bed_type                          3585 non-null   object \n",
      " 58  amenities                         3585 non-null   object \n",
      " 59  square_feet                       56 non-null     float64\n",
      " 60  price                             3585 non-null   object \n",
      " 61  weekly_price                      892 non-null    object \n",
      " 62  monthly_price                     888 non-null    object \n",
      " 63  security_deposit                  1342 non-null   object \n",
      " 64  cleaning_fee                      2478 non-null   object \n",
      " 65  guests_included                   3585 non-null   int64  \n",
      " 66  extra_people                      3585 non-null   object \n",
      " 67  minimum_nights                    3585 non-null   int64  \n",
      " 68  maximum_nights                    3585 non-null   int64  \n",
      " 69  calendar_updated                  3585 non-null   object \n",
      " 70  has_availability                  0 non-null      float64\n",
      " 71  availability_30                   3585 non-null   int64  \n",
      " 72  availability_60                   3585 non-null   int64  \n",
      " 73  availability_90                   3585 non-null   int64  \n",
      " 74  availability_365                  3585 non-null   int64  \n",
      " 75  calendar_last_scraped             3585 non-null   object \n",
      " 76  number_of_reviews                 3585 non-null   int64  \n",
      " 77  first_review                      2829 non-null   object \n",
      " 78  last_review                       2829 non-null   object \n",
      " 79  review_scores_rating              2772 non-null   float64\n",
      " 80  review_scores_accuracy            2762 non-null   float64\n",
      " 81  review_scores_cleanliness         2767 non-null   float64\n",
      " 82  review_scores_checkin             2765 non-null   float64\n",
      " 83  review_scores_communication       2767 non-null   float64\n",
      " 84  review_scores_location            2763 non-null   float64\n",
      " 85  review_scores_value               2764 non-null   float64\n",
      " 86  requires_license                  3585 non-null   object \n",
      " 87  license                           0 non-null      float64\n",
      " 88  jurisdiction_names                0 non-null      float64\n",
      " 89  instant_bookable                  3585 non-null   object \n",
      " 90  cancellation_policy               3585 non-null   object \n",
      " 91  require_guest_profile_picture     3585 non-null   object \n",
      " 92  require_guest_phone_verification  3585 non-null   object \n",
      " 93  calculated_host_listings_count    3585 non-null   int64  \n",
      " 94  reviews_per_month                 2829 non-null   float64\n",
      "dtypes: float64(18), int64(15), object(62)\n",
      "memory usage: 2.6+ MB\n"
     ]
    }
   ],
   "source": [
    "list_dat.info()"
   ]
  },
  {
   "cell_type": "markdown",
   "id": "ae4698f0-f328-419e-876b-6e2c2102dec9",
   "metadata": {},
   "source": [
    "# Section 3: Data Preparation\n",
    "### Cleaning the data\n",
    "#### Fixing column names\n",
    "When doing my quick overview of the data above, I noticed that the listing_id will be my key to join my data together. However, in my Listings dataset, it is only referred to as id. To avoid confusion while working with the data and to be able to easily merge the data later, I'm going to rename that column now to match the Calendar dataset."
   ]
  },
  {
   "cell_type": "code",
   "execution_count": 328,
   "id": "ecf97de8-f5d0-4cda-ad1c-49c8d4170f5d",
   "metadata": {},
   "outputs": [],
   "source": [
    "# renaming id to be listing id for merging data later\n",
    "list_dat = list_dat.rename(columns={'id': 'listing_id'})"
   ]
  },
  {
   "cell_type": "markdown",
   "id": "0ba02b2b-f0fd-4710-8a85-3319eee8366e",
   "metadata": {},
   "source": [
    "#### Changing currency fields to floats for analysis\n",
    "Rental prices are listed as currency and therefor an object for python. I'd like to be able to analyze them as floats when doing my analysis. Since there are multiple columns across both datasets that are listed as currency, I'm going to create a function to more efficiently change them to usable floats."
   ]
  },
  {
   "cell_type": "code",
   "execution_count": 330,
   "id": "9037198e-309c-42f9-a5d5-7db9b5dd6f41",
   "metadata": {},
   "outputs": [],
   "source": [
    "# creating single function to change currency to floats\n",
    "def clean_prices(x):\n",
    "    \"\"\"\n",
    "        Function for converting currency strings into floats\n",
    "    \"\"\"\n",
    "    if isinstance(x, str):\n",
    "        return (x.replace('$', '').replace(',', ''))\n",
    "    return"
   ]
  },
  {
   "cell_type": "code",
   "execution_count": 332,
   "id": "afe36077-d1f8-46fb-9ae4-7bc92af8ef21",
   "metadata": {},
   "outputs": [],
   "source": [
    "# Changing any currency fields to floats across both\n",
    "# Listings and Calendar datasets\n",
    "list_dat['price'] = list_dat['price'].apply(\n",
    "    clean_prices).astype('float')\n",
    "list_dat['weekly_price'] = list_dat['weekly_price'].apply(\n",
    "    clean_prices).astype('float')\n",
    "list_dat['monthly_price'] = list_dat['monthly_price'].apply(\n",
    "    clean_prices).astype('float')\n",
    "list_dat['security_deposit'] = list_dat['security_deposit'].apply(\n",
    "    clean_prices).astype('float')\n",
    "list_dat['cleaning_fee'] = list_dat['cleaning_fee'].apply(\n",
    "    clean_prices).astype('float')\n",
    "cal_dat['price'] = cal_dat['price'].apply(clean_prices).astype('float')"
   ]
  },
  {
   "cell_type": "markdown",
   "id": "713c2426-9870-47d5-a9d5-d52eb4b90ac7",
   "metadata": {},
   "source": [
    "#### Adding date fields for grouping calendar data\n",
    "Since I want to explore the seasonality of list prices, so I can prepare to adjust my prices accordingly and build out my business plan, I'll need to look at the dates available in the Calendar dataset in a more usable way. I know I want to look at prices by month. I may also want to explore if I should change my prices based on day of the week. Later on down the road, I'll want to explore the influence of certain holidays and major events, but for now, let's look at the high level month and day of week influences on list price."
   ]
  },
  {
   "cell_type": "code",
   "execution_count": 334,
   "id": "4dbd4ce4-4b07-4035-a314-5f029c117d43",
   "metadata": {},
   "outputs": [],
   "source": [
    "# I'd also like to look at this data by day of week and month,\n",
    "# so I'd like to extrapolate the existing date fields\n",
    "cal_dat['date'] = pd.to_datetime(cal_dat['date'])\n",
    "cal_dat['day_of_week'] = cal_dat['date'].dt.day_name()\n",
    "cal_dat['month'] = cal_dat['date'].dt.month_name()"
   ]
  },
  {
   "cell_type": "markdown",
   "id": "7eb224fc-8449-4d7b-b408-1aebe5d3f22e",
   "metadata": {},
   "source": [
    "#### Narrowing down my data and removing null values\n",
    "There are a lot of extra fields I'm not as interested in, so I want to narrow my dataset to just the fields I need. I also want to remove any records that don't include a list price. For bedrooms, bathrooms, beds, and the review rating, I'm going to apply the column mean based on similar properties (neighborhood, property type, room type, and accomodates)."
   ]
  },
  {
   "cell_type": "code",
   "execution_count": 336,
   "id": "2ae12957-7d94-4a9c-b239-37ae6b5c6f2e",
   "metadata": {},
   "outputs": [
    {
     "name": "stdout",
     "output_type": "stream",
     "text": [
      "<class 'pandas.core.frame.DataFrame'>\n",
      "RangeIndex: 3585 entries, 0 to 3584\n",
      "Data columns (total 10 columns):\n",
      " #   Column                  Non-Null Count  Dtype  \n",
      "---  ------                  --------------  -----  \n",
      " 0   listing_id              3585 non-null   int64  \n",
      " 1   price                   3585 non-null   float64\n",
      " 2   neighbourhood_cleansed  3585 non-null   object \n",
      " 3   property_type           3585 non-null   object \n",
      " 4   room_type               3585 non-null   object \n",
      " 5   accommodates            3585 non-null   int64  \n",
      " 6   bathrooms               3584 non-null   float64\n",
      " 7   bedrooms                3585 non-null   float64\n",
      " 8   beds                    3584 non-null   float64\n",
      " 9   review_scores_rating    3497 non-null   float64\n",
      "dtypes: float64(5), int64(2), object(3)\n",
      "memory usage: 280.2+ KB\n"
     ]
    }
   ],
   "source": [
    "# For my analysis, I would like to look at prices in relation to\n",
    "# fields such as neighborhood and number of bedrooms to see\n",
    "# what kind of properties I should consider investing in\n",
    "# To do this, I'd like to remove any null values for my subset of data\n",
    "\n",
    "list2_dat = list_dat[['listing_id', 'price', 'neighbourhood_cleansed',\n",
    "                      'property_type', 'room_type', 'accommodates',\n",
    "                      'bathrooms', 'bedrooms', 'beds', 'review_scores_rating']]\n",
    "# dropping any records that don't have a price listed\n",
    "# since that is the primary field of interest to me\n",
    "list2_dat = list2_dat.dropna(\n",
    "    subset=['price'])\n",
    "\n",
    "# imputing property type first so that it can be used to group other missing values\n",
    "list2_dat['property_type'] = list2_dat.groupby(\n",
    "    ['neighbourhood_cleansed', 'room_type',\n",
    "     'accommodates'])['property_type'].transform(lambda x: x.fillna(x.mode()[0]))\n",
    "\n",
    "# imputing values for remaining columns with null values\n",
    "list2_dat['bathrooms'] = list2_dat['bathrooms'].fillna(list2_dat.groupby(\n",
    "    ['neighbourhood_cleansed','property_type', 'room_type', 'accommodates'])['bathrooms'].transform('mean'))\n",
    "\n",
    "list2_dat['bedrooms'] = list2_dat['bedrooms'].fillna(list2_dat.groupby(\n",
    "    ['neighbourhood_cleansed','property_type', 'room_type', 'accommodates'])['bedrooms'].transform('mean'))\n",
    "\n",
    "list2_dat['beds'] = list2_dat['beds'].fillna(list2_dat.groupby(\n",
    "    ['neighbourhood_cleansed','property_type', 'room_type', 'accommodates'])['beds'].transform('mean'))\n",
    "\n",
    "list2_dat['review_scores_rating'] = list2_dat['review_scores_rating'].fillna(list2_dat.groupby(\n",
    "    ['neighbourhood_cleansed','property_type', 'room_type', 'accommodates'])['review_scores_rating'].transform('mean'))\n",
    "\n",
    "\n",
    "list2_dat.info()"
   ]
  },
  {
   "cell_type": "markdown",
   "id": "f56869bf-861b-437f-bce6-b4382b1251b1",
   "metadata": {},
   "source": [
    "Since there are still some nulls for beds and review ratings due to my group by, I'm just going to remove the extra nulls to avoid any impact on the analysis."
   ]
  },
  {
   "cell_type": "code",
   "execution_count": 338,
   "id": "11aadf41-9c4c-4f96-ad08-15fe426433c6",
   "metadata": {},
   "outputs": [
    {
     "name": "stdout",
     "output_type": "stream",
     "text": [
      "<class 'pandas.core.frame.DataFrame'>\n",
      "Index: 3496 entries, 0 to 3584\n",
      "Data columns (total 10 columns):\n",
      " #   Column                  Non-Null Count  Dtype  \n",
      "---  ------                  --------------  -----  \n",
      " 0   listing_id              3496 non-null   int64  \n",
      " 1   price                   3496 non-null   float64\n",
      " 2   neighbourhood_cleansed  3496 non-null   object \n",
      " 3   property_type           3496 non-null   object \n",
      " 4   room_type               3496 non-null   object \n",
      " 5   accommodates            3496 non-null   int64  \n",
      " 6   bathrooms               3496 non-null   float64\n",
      " 7   bedrooms                3496 non-null   float64\n",
      " 8   beds                    3496 non-null   float64\n",
      " 9   review_scores_rating    3496 non-null   float64\n",
      "dtypes: float64(5), int64(2), object(3)\n",
      "memory usage: 300.4+ KB\n"
     ]
    }
   ],
   "source": [
    "# removing excess nulls\n",
    "list2_dat = list2_dat.dropna()\n",
    "list2_dat.info()"
   ]
  },
  {
   "cell_type": "markdown",
   "id": "9e97a365-7ea6-4e24-8e2e-966082d1a33b",
   "metadata": {},
   "source": [
    "Since I'll also want to run a correlation matrix to see what kind of features I should be looking for in a property, I'll go ahead and clean the subset of data for that now."
   ]
  },
  {
   "cell_type": "code",
   "execution_count": 340,
   "id": "1da82cc5-59bf-4201-9fcb-33dd46d7ef26",
   "metadata": {},
   "outputs": [
    {
     "name": "stdout",
     "output_type": "stream",
     "text": [
      "<class 'pandas.core.frame.DataFrame'>\n",
      "Index: 3496 entries, 0 to 3584\n",
      "Data columns (total 6 columns):\n",
      " #   Column                Non-Null Count  Dtype  \n",
      "---  ------                --------------  -----  \n",
      " 0   price                 3496 non-null   float64\n",
      " 1   accommodates          3496 non-null   int64  \n",
      " 2   bathrooms             3496 non-null   float64\n",
      " 3   bedrooms              3496 non-null   float64\n",
      " 4   beds                  3496 non-null   float64\n",
      " 5   review_scores_rating  3496 non-null   float64\n",
      "dtypes: float64(5), int64(1)\n",
      "memory usage: 191.2 KB\n"
     ]
    }
   ],
   "source": [
    "# subset of data for correlation matrix\n",
    "list2_corr = list2_dat[['price', 'accommodates',\n",
    "                        'bathrooms', 'bedrooms', 'beds',\n",
    "                        'review_scores_rating']]\n",
    "list2_corr.info()"
   ]
  },
  {
   "cell_type": "markdown",
   "id": "5fe9203a-de09-4948-a632-c791dc4c4a67",
   "metadata": {},
   "source": [
    "#### Combining Calendar and Listings data for seasonality pricing\n",
    "I want to combine my Calendar and Listings datasets through merging on listing_id. This will allow me to look at the seasonality of pricing, but also pulling in the qualitative fields like neighborhood that I'm missing in the Calendar dataset. I will want to do my analysis of seasonal pricing based off the neighborhoods where I want to focus my search, so I will merge this data after I analyze neighborhoods and property features."
   ]
  },
  {
   "cell_type": "markdown",
   "id": "db9bb9f7-19fe-4e14-94c1-085cf0adae48",
   "metadata": {},
   "source": [
    "# Section 4: Evaluation\n",
    "### Question 1: Where should I tell my realtor to start looking for properties - which Boston neighborhoods yield higher list prices? Are there certain types of properties that influence list prices?\n",
    "I first want to know where in the city I should be looking at properties. Let's check out the average list price based on neighborhood. I'll visualize this through a bar chart and an accompanying table. I'll make sure to include number of listings in each neighborhood in the table to give context to the average price."
   ]
  },
  {
   "cell_type": "code",
   "execution_count": 342,
   "id": "6b98120d-4d10-4430-a1a5-c6511102980b",
   "metadata": {},
   "outputs": [
    {
     "data": {
      "text/plain": [
       "Text(0, 0.5, 'Mean List Price ($)')"
      ]
     },
     "execution_count": 342,
     "metadata": {},
     "output_type": "execute_result"
    },
    {
     "data": {
      "image/png": "[encoded data removed]",
      "text/plain": [
       "<Figure size 640x480 with 1 Axes>"
      ]
     },
     "metadata": {},
     "output_type": "display_data"
    }
   ],
   "source": [
    "# I first want to know where in the city I should be\n",
    "# looking at properties based on avg neighborhood list prices\n",
    "# Calculate the average price based on neighborhood,\n",
    "# sort to easily identify top neighborhoods\n",
    "nbrhd = list2_dat.groupby(\n",
    "    list2_dat['neighbourhood_cleansed'])['price'].mean().sort_values()\n",
    "# plot for visual representation\n",
    "nbrhd.plot(kind='bar')\n",
    "plt.title('Boston AirBnB Prices by Neighborhood')\n",
    "plt.xlabel('')\n",
    "plt.ylabel('Mean List Price ($)')"
   ]
  },
  {
   "cell_type": "markdown",
   "id": "76fcb5e0-a066-4b11-9650-c59c40f09314",
   "metadata": {},
   "source": [
    "Looks like we will definitely be able to narrow down our search based on neighborhoods. Let's look at the data in a table to add some additional context before selecting exactly which neighborhoods.\n",
    "\n",
    "I'm going to have to transform the neighborhood prices series back into a dataframe and then compute the number of records for each of those neighborhoods and combine them in a single dataframe. I'll also want to display prices back in currency form, so I'm going to style average list price appropriately."
   ]
  },
  {
   "cell_type": "code",
   "execution_count": 344,
   "id": "18b3c689-ae0a-44f4-950b-64ccb212c833",
   "metadata": {},
   "outputs": [
    {
     "data": {
      "text/html": [
       "<style type=\"text/css\">\n",
       "</style>\n",
       "<table id=\"T_b57b6\">\n",
       "  <thead>\n",
       "    <tr>\n",
       "      <th class=\"blank level0\" >&nbsp;</th>\n",
       "      <th id=\"T_b57b6_level0_col0\" class=\"col_heading level0 col0\" >Avg List Price</th>\n",
       "      <th id=\"T_b57b6_level0_col1\" class=\"col_heading level0 col1\" ># of Listings</th>\n",
       "    </tr>\n",
       "    <tr>\n",
       "      <th class=\"index_name level0\" >Neighborhood</th>\n",
       "      <th class=\"blank col0\" >&nbsp;</th>\n",
       "      <th class=\"blank col1\" >&nbsp;</th>\n",
       "    </tr>\n",
       "  </thead>\n",
       "  <tbody>\n",
       "    <tr>\n",
       "      <th id=\"T_b57b6_level0_row0\" class=\"row_heading level0 row0\" >Mattapan</th>\n",
       "      <td id=\"T_b57b6_row0_col0\" class=\"data row0 col0\" >$72.64</td>\n",
       "      <td id=\"T_b57b6_row0_col1\" class=\"data row0 col1\" >22</td>\n",
       "    </tr>\n",
       "    <tr>\n",
       "      <th id=\"T_b57b6_level0_row1\" class=\"row_heading level0 row1\" >Hyde Park</th>\n",
       "      <td id=\"T_b57b6_row1_col0\" class=\"data row1 col0\" >$86.55</td>\n",
       "      <td id=\"T_b57b6_row1_col1\" class=\"data row1 col1\" >31</td>\n",
       "    </tr>\n",
       "    <tr>\n",
       "      <th id=\"T_b57b6_level0_row2\" class=\"row_heading level0 row2\" >Dorchester</th>\n",
       "      <td id=\"T_b57b6_row2_col0\" class=\"data row2 col0\" >$90.62</td>\n",
       "      <td id=\"T_b57b6_row2_col1\" class=\"data row2 col1\" >265</td>\n",
       "    </tr>\n",
       "    <tr>\n",
       "      <th id=\"T_b57b6_level0_row3\" class=\"row_heading level0 row3\" >Roslindale</th>\n",
       "      <td id=\"T_b57b6_row3_col0\" class=\"data row3 col0\" >$97.49</td>\n",
       "      <td id=\"T_b57b6_row3_col1\" class=\"data row3 col1\" >55</td>\n",
       "    </tr>\n",
       "    <tr>\n",
       "      <th id=\"T_b57b6_level0_row4\" class=\"row_heading level0 row4\" >West Roxbury</th>\n",
       "      <td id=\"T_b57b6_row4_col0\" class=\"data row4 col0\" >$100.80</td>\n",
       "      <td id=\"T_b57b6_row4_col1\" class=\"data row4 col1\" >41</td>\n",
       "    </tr>\n",
       "    <tr>\n",
       "      <th id=\"T_b57b6_level0_row5\" class=\"row_heading level0 row5\" >Longwood Medical Area</th>\n",
       "      <td id=\"T_b57b6_row5_col0\" class=\"data row5 col0\" >$105.67</td>\n",
       "      <td id=\"T_b57b6_row5_col1\" class=\"data row5 col1\" >3</td>\n",
       "    </tr>\n",
       "    <tr>\n",
       "      <th id=\"T_b57b6_level0_row6\" class=\"row_heading level0 row6\" >Allston</th>\n",
       "      <td id=\"T_b57b6_row6_col0\" class=\"data row6 col0\" >$110.01</td>\n",
       "      <td id=\"T_b57b6_row6_col1\" class=\"data row6 col1\" >254</td>\n",
       "    </tr>\n",
       "    <tr>\n",
       "      <th id=\"T_b57b6_level0_row7\" class=\"row_heading level0 row7\" >Brighton</th>\n",
       "      <td id=\"T_b57b6_row7_col0\" class=\"data row7 col0\" >$117.79</td>\n",
       "      <td id=\"T_b57b6_row7_col1\" class=\"data row7 col1\" >179</td>\n",
       "    </tr>\n",
       "    <tr>\n",
       "      <th id=\"T_b57b6_level0_row8\" class=\"row_heading level0 row8\" >East Boston</th>\n",
       "      <td id=\"T_b57b6_row8_col0\" class=\"data row8 col0\" >$118.04</td>\n",
       "      <td id=\"T_b57b6_row8_col1\" class=\"data row8 col1\" >147</td>\n",
       "    </tr>\n",
       "    <tr>\n",
       "      <th id=\"T_b57b6_level0_row9\" class=\"row_heading level0 row9\" >Mission Hill</th>\n",
       "      <td id=\"T_b57b6_row9_col0\" class=\"data row9 col0\" >$121.33</td>\n",
       "      <td id=\"T_b57b6_row9_col1\" class=\"data row9 col1\" >121</td>\n",
       "    </tr>\n",
       "    <tr>\n",
       "      <th id=\"T_b57b6_level0_row10\" class=\"row_heading level0 row10\" >Jamaica Plain</th>\n",
       "      <td id=\"T_b57b6_row10_col0\" class=\"data row10 col0\" >$137.32</td>\n",
       "      <td id=\"T_b57b6_row10_col1\" class=\"data row10 col1\" >339</td>\n",
       "    </tr>\n",
       "    <tr>\n",
       "      <th id=\"T_b57b6_level0_row11\" class=\"row_heading level0 row11\" >Roxbury</th>\n",
       "      <td id=\"T_b57b6_row11_col0\" class=\"data row11 col0\" >$147.90</td>\n",
       "      <td id=\"T_b57b6_row11_col1\" class=\"data row11 col1\" >139</td>\n",
       "    </tr>\n",
       "    <tr>\n",
       "      <th id=\"T_b57b6_level0_row12\" class=\"row_heading level0 row12\" >South Boston</th>\n",
       "      <td id=\"T_b57b6_row12_col0\" class=\"data row12 col0\" >$187.61</td>\n",
       "      <td id=\"T_b57b6_row12_col1\" class=\"data row12 col1\" >174</td>\n",
       "    </tr>\n",
       "    <tr>\n",
       "      <th id=\"T_b57b6_level0_row13\" class=\"row_heading level0 row13\" >North End</th>\n",
       "      <td id=\"T_b57b6_row13_col0\" class=\"data row13 col0\" >$195.96</td>\n",
       "      <td id=\"T_b57b6_row13_col1\" class=\"data row13 col1\" >140</td>\n",
       "    </tr>\n",
       "    <tr>\n",
       "      <th id=\"T_b57b6_level0_row14\" class=\"row_heading level0 row14\" >Charlestown</th>\n",
       "      <td id=\"T_b57b6_row14_col0\" class=\"data row14 col0\" >$200.26</td>\n",
       "      <td id=\"T_b57b6_row14_col1\" class=\"data row14 col1\" >104</td>\n",
       "    </tr>\n",
       "    <tr>\n",
       "      <th id=\"T_b57b6_level0_row15\" class=\"row_heading level0 row15\" >South End</th>\n",
       "      <td id=\"T_b57b6_row15_col0\" class=\"data row15 col0\" >$204.64</td>\n",
       "      <td id=\"T_b57b6_row15_col1\" class=\"data row15 col1\" >321</td>\n",
       "    </tr>\n",
       "    <tr>\n",
       "      <th id=\"T_b57b6_level0_row16\" class=\"row_heading level0 row16\" >West End</th>\n",
       "      <td id=\"T_b57b6_row16_col0\" class=\"data row16 col0\" >$205.64</td>\n",
       "      <td id=\"T_b57b6_row16_col1\" class=\"data row16 col1\" >47</td>\n",
       "    </tr>\n",
       "    <tr>\n",
       "      <th id=\"T_b57b6_level0_row17\" class=\"row_heading level0 row17\" >Fenway</th>\n",
       "      <td id=\"T_b57b6_row17_col0\" class=\"data row17 col0\" >$221.27</td>\n",
       "      <td id=\"T_b57b6_row17_col1\" class=\"data row17 col1\" >282</td>\n",
       "    </tr>\n",
       "    <tr>\n",
       "      <th id=\"T_b57b6_level0_row18\" class=\"row_heading level0 row18\" >Beacon Hill</th>\n",
       "      <td id=\"T_b57b6_row18_col0\" class=\"data row18 col0\" >$225.67</td>\n",
       "      <td id=\"T_b57b6_row18_col1\" class=\"data row18 col1\" >192</td>\n",
       "    </tr>\n",
       "    <tr>\n",
       "      <th id=\"T_b57b6_level0_row19\" class=\"row_heading level0 row19\" >Downtown</th>\n",
       "      <td id=\"T_b57b6_row19_col0\" class=\"data row19 col0\" >$237.05</td>\n",
       "      <td id=\"T_b57b6_row19_col1\" class=\"data row19 col1\" >165</td>\n",
       "    </tr>\n",
       "    <tr>\n",
       "      <th id=\"T_b57b6_level0_row20\" class=\"row_heading level0 row20\" >Chinatown</th>\n",
       "      <td id=\"T_b57b6_row20_col0\" class=\"data row20 col0\" >$238.21</td>\n",
       "      <td id=\"T_b57b6_row20_col1\" class=\"data row20 col1\" >68</td>\n",
       "    </tr>\n",
       "    <tr>\n",
       "      <th id=\"T_b57b6_level0_row21\" class=\"row_heading level0 row21\" >Back Bay</th>\n",
       "      <td id=\"T_b57b6_row21_col0\" class=\"data row21 col0\" >$241.96</td>\n",
       "      <td id=\"T_b57b6_row21_col1\" class=\"data row21 col1\" >299</td>\n",
       "    </tr>\n",
       "    <tr>\n",
       "      <th id=\"T_b57b6_level0_row22\" class=\"row_heading level0 row22\" >Leather District</th>\n",
       "      <td id=\"T_b57b6_row22_col0\" class=\"data row22 col0\" >$253.60</td>\n",
       "      <td id=\"T_b57b6_row22_col1\" class=\"data row22 col1\" >5</td>\n",
       "    </tr>\n",
       "    <tr>\n",
       "      <th id=\"T_b57b6_level0_row23\" class=\"row_heading level0 row23\" >Bay Village</th>\n",
       "      <td id=\"T_b57b6_row23_col0\" class=\"data row23 col0\" >$275.90</td>\n",
       "      <td id=\"T_b57b6_row23_col1\" class=\"data row23 col1\" >20</td>\n",
       "    </tr>\n",
       "    <tr>\n",
       "      <th id=\"T_b57b6_level0_row24\" class=\"row_heading level0 row24\" >South Boston Waterfront</th>\n",
       "      <td id=\"T_b57b6_row24_col0\" class=\"data row24 col0\" >$306.06</td>\n",
       "      <td id=\"T_b57b6_row24_col1\" class=\"data row24 col1\" >83</td>\n",
       "    </tr>\n",
       "  </tbody>\n",
       "</table>\n"
      ],
      "text/plain": [
       "<pandas.io.formats.style.Styler at 0x17e1e84a000>"
      ]
     },
     "execution_count": 344,
     "metadata": {},
     "output_type": "execute_result"
    }
   ],
   "source": [
    "# convert series to dataframe for easy table\n",
    "# identifying average prices and count so there's some context to the numbers\n",
    "nbrhd_prices = nbrhd.to_frame()\n",
    "# pull the count of listings in each neighborhood,\n",
    "# so I'm not looking at a small sample\n",
    "nbrhd_cnt = list2_dat['neighbourhood_cleansed'].value_counts()\n",
    "# merge two dataframes to view in one table\n",
    "nbrhd_df = pd.merge(nbrhd_prices,\n",
    "                    nbrhd_cnt, how='left', on='neighbourhood_cleansed')\n",
    "# format list prices for visual currency, rename columns\n",
    "nbrhd_df = nbrhd_df.rename(\n",
    "    columns={'price':'Avg List Price','count':'# of Listings'})\n",
    "nbrhd_df.index.name = 'Neighborhood'\n",
    "nbrhd_df = nbrhd_df.style.format({'Avg List Price': \"${:,.2f}\"})\n",
    "\n",
    "nbrhd_df"
   ]
  },
  {
   "cell_type": "markdown",
   "id": "519bf96f-2311-4dee-a9b1-1eb9b338d2b1",
   "metadata": {},
   "source": [
    "Looks like we can narrow our search down to the top 5 neighborhoods. Leather District only has 5 listings in it, and Bay Village/South Boston Waterfront/Chinatown both have quite a few less than Downtown and Back Bay. I'll probably want to do some outside research to see why that may be, especially in the case of Leather District, but for now, I'll narrow my search down to those 6."
   ]
  },
  {
   "cell_type": "markdown",
   "id": "3b14dfa4-bdfa-4a93-9568-7f6aac455960",
   "metadata": {},
   "source": [
    "### Question 2: What kind of internal features should I consider in a property? Does how many bedrooms and bathrooms influence list price?\n",
    "Now that I know what neighborhoods I should be looking into, I want to know what kind of properties I should be considering. I already created a subset of data to look into this, but let's create a correlation matrix and visualize it in a heatmap. I'm also thinking ahead to my future reviews and wondering if any of the property features might influence my future ratings. It's ok if they don't, but if they do, I want to know up front.\n",
    "\n",
    "To start I'm going to run this for all of Boston, and then I'll run it again looking at just my neighborhoods."
   ]
  },
  {
   "cell_type": "code",
   "execution_count": 347,
   "id": "15dac0ca-675d-41e0-8884-fb11354f566a",
   "metadata": {},
   "outputs": [
    {
     "data": {
      "text/plain": [
       "Text(0.5, 1.0, 'Price Correlations for Boston AirBnBs')"
      ]
     },
     "execution_count": 347,
     "metadata": {},
     "output_type": "execute_result"
    },
    {
     "data": {
      "image/png": "[encoded data removed]",
      "text/plain": [
       "<Figure size 640x480 with 2 Axes>"
      ]
     },
     "metadata": {},
     "output_type": "display_data"
    }
   ],
   "source": [
    "# I'd like to know what house features I should\n",
    "# consider when purchasing a property\n",
    "# lets look at a heat map of a correlation matrix\n",
    "# looking at some of the numeric property features\n",
    "\n",
    "sns.heatmap(list2_corr.corr(), annot=True, fmt=\".2f\")\n",
    "\n",
    "plt.title('Price Correlations for Boston AirBnBs')"
   ]
  },
  {
   "cell_type": "markdown",
   "id": "a27dcf7a-60cf-439a-ad00-cf59d2351fcc",
   "metadata": {},
   "source": [
    "It looks like I don't need to worry about property features impacting my future reviews, which is good for now. I'll be able to shelve looking into review data until after I purchase my property and start diving into after purchase features.\n",
    "\n",
    "That said, it does look like I should be considering the number of bedrooms and thinking about how many people a space can accomodate when touring homes. It's not a super strong correlation, but it is enough that I can act on it. Based on this, it doesn't look like I need to worry about having too many extra bathrooms on my property, so I'll let my realtor know to prioritize extra bedrooms and flex spaces over extra bathrooms.\n",
    "\n",
    "Let's look at if this holds within our target neighborhoods."
   ]
  },
  {
   "cell_type": "code",
   "execution_count": 349,
   "id": "83b0c353-e03b-459b-b31c-380dbfdecce6",
   "metadata": {},
   "outputs": [
    {
     "data": {
      "text/plain": [
       "Text(0.5, 1.0, 'Price Correlations for Boston AirBnBs')"
      ]
     },
     "execution_count": 349,
     "metadata": {},
     "output_type": "execute_result"
    },
    {
     "data": {
      "image/png": "[encoded data removed]",
      "text/plain": [
       "<Figure size 640x480 with 2 Axes>"
      ]
     },
     "metadata": {},
     "output_type": "display_data"
    }
   ],
   "source": [
    "# Subsetting existing dataset to include the top 5 neighborhoods\n",
    "nbhd_dat = list2_dat[list2_dat['neighbourhood_cleansed'].isin(\n",
    "    ['Downtown', 'Chinatown', 'Back Bay', 'Leather District',\n",
    "     'Bay Village', 'South Boston Waterfront'])]\n",
    "nbhd_corr = nbhd_dat[['price', 'accommodates',\n",
    "                        'bathrooms', 'bedrooms', 'beds',\n",
    "                        'review_scores_rating']]\n",
    "\n",
    "# creating heatmap based on correlation matrix\n",
    "sns.heatmap(nbhd_corr.corr(), annot=True, fmt=\".2f\")\n",
    "\n",
    "plt.title('Price Correlations for Boston AirBnBs')\n"
   ]
  },
  {
   "cell_type": "markdown",
   "id": "5700f5b3-3a77-4503-a92b-2e31e1e3bc73",
   "metadata": {},
   "source": [
    "It looks like bedrooms are more important than the number of folks I can accomodate in my target neighborhoods. It might have to do with how guests book their listings. I'll have to consider that later.\n",
    "\n",
    "Just out of curiosity, I'm interested in what number of bedrooms I should be focusing on to maximize my return on investment. I'm don't need anything fancy here, just want to see generally how the number of bedrooms shakes out in relation to list price, so I'll look at a scatter plot."
   ]
  },
  {
   "cell_type": "code",
   "execution_count": 351,
   "id": "450c76c1-a500-4f7e-b5ae-9d6b429c9147",
   "metadata": {},
   "outputs": [
    {
     "data": {
      "text/plain": [
       "<Axes: xlabel='bedrooms', ylabel='price'>"
      ]
     },
     "execution_count": 351,
     "metadata": {},
     "output_type": "execute_result"
    },
    {
     "data": {
      "image/png": "[encoded data removed]",
      "text/plain": [
       "<Figure size 640x480 with 1 Axes>"
      ]
     },
     "metadata": {},
     "output_type": "display_data"
    }
   ],
   "source": [
    "# bedroom vs list price scatter plot for analysis\n",
    "list2_corr.plot.scatter(x='bedrooms', y='price')"
   ]
  },
  {
   "cell_type": "markdown",
   "id": "d4c2c0e1-97ae-4c68-b188-94110f5f9bf5",
   "metadata": {},
   "source": [
    "This looks like I should consider focusing on spaces with 1 or 3 bedrooms. My guess is that is depends on the type of visit my target guests desire. While more bedrooms could be nice to accomodate larger groups, I should consider if smaller groups are more common and then supply and demand of spaces impacts price. I'll definitely want to evaluate both kinds of property spaces and see what is available and then do further analysis when I'm ready to make a purchase decision.\n",
    "\n",
    "Let's look at it for my target neighborhood."
   ]
  },
  {
   "cell_type": "code",
   "execution_count": 353,
   "id": "dd25a254-7191-45f4-a930-45c8ad4ae3bc",
   "metadata": {},
   "outputs": [
    {
     "data": {
      "text/plain": [
       "<Axes: xlabel='bedrooms', ylabel='price'>"
      ]
     },
     "execution_count": 353,
     "metadata": {},
     "output_type": "execute_result"
    },
    {
     "data": {
      "image/png": "[encoded data removed]",
      "text/plain": [
       "<Figure size 640x480 with 1 Axes>"
      ]
     },
     "metadata": {},
     "output_type": "display_data"
    }
   ],
   "source": [
    "# bedroom vs list price scatter plot for analysis\n",
    "nbhd_corr.plot.scatter(x='bedrooms', y='price')"
   ]
  },
  {
   "cell_type": "markdown",
   "id": "38c95658-b687-48e2-9fa6-e29de52d0401",
   "metadata": {},
   "source": [
    "It does look like I should consider smaller properties and really focus in on what kind of guests I want to host and work to fit my property to those needs.\n",
    "\n",
    "What kind of property should I be considering though? Let's look at average list price by property type in a bar chart"
   ]
  },
  {
   "cell_type": "code",
   "execution_count": 355,
   "id": "4d03ab74-893e-4e8b-a788-882e2e3fdaea",
   "metadata": {},
   "outputs": [
    {
     "data": {
      "text/plain": [
       "Text(0, 0.5, 'Mean List Price ($)')"
      ]
     },
     "execution_count": 355,
     "metadata": {},
     "output_type": "execute_result"
    },
    {
     "data": {
      "image/png": "[encoded data removed]",
      "text/plain": [
       "<Figure size 640x480 with 1 Axes>"
      ]
     },
     "metadata": {},
     "output_type": "display_data"
    }
   ],
   "source": [
    "# calculate mean of list price by grouping by property type\n",
    "propty = list2_dat.groupby(\n",
    "    list2_dat['property_type'])['price'].mean().sort_values()\n",
    "\n",
    "# visualize in a bar chart\n",
    "propty.plot(kind='bar')\n",
    "plt.title('Boston AirBnB Prices by Property Type')\n",
    "plt.xlabel('')\n",
    "plt.ylabel('Mean List Price ($)')"
   ]
  },
  {
   "cell_type": "markdown",
   "id": "77c51896-feb8-4a7d-8a8a-07d2e833ac13",
   "metadata": {},
   "source": [
    "I'm interested in a stand alone property, separate from my home, but it looks like apartments/condos etc might perform better than houses/townhouses. Let's check out the data in table form with some counts of properties as added context before making a conclusion."
   ]
  },
  {
   "cell_type": "code",
   "execution_count": 357,
   "id": "aafbeeeb-71c1-477a-9772-c2528b4d0c8a",
   "metadata": {},
   "outputs": [
    {
     "data": {
      "text/html": [
       "<style type=\"text/css\">\n",
       "</style>\n",
       "<table id=\"T_41890\">\n",
       "  <thead>\n",
       "    <tr>\n",
       "      <th class=\"blank level0\" >&nbsp;</th>\n",
       "      <th id=\"T_41890_level0_col0\" class=\"col_heading level0 col0\" >Avg List Price</th>\n",
       "      <th id=\"T_41890_level0_col1\" class=\"col_heading level0 col1\" ># of Listings</th>\n",
       "    </tr>\n",
       "    <tr>\n",
       "      <th class=\"index_name level0\" >Property Type</th>\n",
       "      <th class=\"blank col0\" >&nbsp;</th>\n",
       "      <th class=\"blank col1\" >&nbsp;</th>\n",
       "    </tr>\n",
       "  </thead>\n",
       "  <tbody>\n",
       "    <tr>\n",
       "      <th id=\"T_41890_level0_row0\" class=\"row_heading level0 row0\" >Dorm</th>\n",
       "      <td id=\"T_41890_row0_col0\" class=\"data row0 col0\" >$62.50</td>\n",
       "      <td id=\"T_41890_row0_col1\" class=\"data row0 col1\" >2</td>\n",
       "    </tr>\n",
       "    <tr>\n",
       "      <th id=\"T_41890_level0_row1\" class=\"row_heading level0 row1\" >Entire Floor</th>\n",
       "      <td id=\"T_41890_row1_col0\" class=\"data row1 col0\" >$80.00</td>\n",
       "      <td id=\"T_41890_row1_col1\" class=\"data row1 col1\" >1</td>\n",
       "    </tr>\n",
       "    <tr>\n",
       "      <th id=\"T_41890_level0_row2\" class=\"row_heading level0 row2\" >Bed & Breakfast</th>\n",
       "      <td id=\"T_41890_row2_col0\" class=\"data row2 col0\" >$117.72</td>\n",
       "      <td id=\"T_41890_row2_col1\" class=\"data row2 col1\" >32</td>\n",
       "    </tr>\n",
       "    <tr>\n",
       "      <th id=\"T_41890_level0_row3\" class=\"row_heading level0 row3\" >House</th>\n",
       "      <td id=\"T_41890_row3_col0\" class=\"data row3 col0\" >$130.89</td>\n",
       "      <td id=\"T_41890_row3_col1\" class=\"data row3 col1\" >556</td>\n",
       "    </tr>\n",
       "    <tr>\n",
       "      <th id=\"T_41890_level0_row4\" class=\"row_heading level0 row4\" >Townhouse</th>\n",
       "      <td id=\"T_41890_row4_col0\" class=\"data row4 col0\" >$148.86</td>\n",
       "      <td id=\"T_41890_row4_col1\" class=\"data row4 col1\" >50</td>\n",
       "    </tr>\n",
       "    <tr>\n",
       "      <th id=\"T_41890_level0_row5\" class=\"row_heading level0 row5\" >Apartment</th>\n",
       "      <td id=\"T_41890_row5_col0\" class=\"data row5 col0\" >$182.16</td>\n",
       "      <td id=\"T_41890_row5_col1\" class=\"data row5 col1\" >2579</td>\n",
       "    </tr>\n",
       "    <tr>\n",
       "      <th id=\"T_41890_level0_row6\" class=\"row_heading level0 row6\" >Villa</th>\n",
       "      <td id=\"T_41890_row6_col0\" class=\"data row6 col0\" >$189.00</td>\n",
       "      <td id=\"T_41890_row6_col1\" class=\"data row6 col1\" >3</td>\n",
       "    </tr>\n",
       "    <tr>\n",
       "      <th id=\"T_41890_level0_row7\" class=\"row_heading level0 row7\" >Condominium</th>\n",
       "      <td id=\"T_41890_row7_col0\" class=\"data row7 col0\" >$190.61</td>\n",
       "      <td id=\"T_41890_row7_col1\" class=\"data row7 col1\" >213</td>\n",
       "    </tr>\n",
       "    <tr>\n",
       "      <th id=\"T_41890_level0_row8\" class=\"row_heading level0 row8\" >Loft</th>\n",
       "      <td id=\"T_41890_row8_col0\" class=\"data row8 col0\" >$195.00</td>\n",
       "      <td id=\"T_41890_row8_col1\" class=\"data row8 col1\" >34</td>\n",
       "    </tr>\n",
       "    <tr>\n",
       "      <th id=\"T_41890_level0_row9\" class=\"row_heading level0 row9\" >Other</th>\n",
       "      <td id=\"T_41890_row9_col0\" class=\"data row9 col0\" >$216.69</td>\n",
       "      <td id=\"T_41890_row9_col1\" class=\"data row9 col1\" >13</td>\n",
       "    </tr>\n",
       "    <tr>\n",
       "      <th id=\"T_41890_level0_row10\" class=\"row_heading level0 row10\" >Boat</th>\n",
       "      <td id=\"T_41890_row10_col0\" class=\"data row10 col0\" >$268.83</td>\n",
       "      <td id=\"T_41890_row10_col1\" class=\"data row10 col1\" >12</td>\n",
       "    </tr>\n",
       "    <tr>\n",
       "      <th id=\"T_41890_level0_row11\" class=\"row_heading level0 row11\" >Guesthouse</th>\n",
       "      <td id=\"T_41890_row11_col0\" class=\"data row11 col0\" >$289.00</td>\n",
       "      <td id=\"T_41890_row11_col1\" class=\"data row11 col1\" >1</td>\n",
       "    </tr>\n",
       "  </tbody>\n",
       "</table>\n"
      ],
      "text/plain": [
       "<pandas.io.formats.style.Styler at 0x17e03d2a000>"
      ]
     },
     "execution_count": 357,
     "metadata": {},
     "output_type": "execute_result"
    }
   ],
   "source": [
    "# convert series to dataframe for easy table identifying\n",
    "# average prices and count so there's some context to the numbers\n",
    "propty_prices = propty.to_frame()\n",
    "# pull the count of listings for each property type,\n",
    "# so I'm not looking at a small sample\n",
    "propty_cnt = list2_dat['property_type'].value_counts()\n",
    "# merge two dataframes to view in one table\n",
    "propty_df = pd.merge(propty_prices, propty_cnt, how='left', on='property_type')\n",
    "# format list prices for visual currency, rename columns\n",
    "propty_df = propty_df.rename(\n",
    "    columns={'price': 'Avg List Price', 'count': '# of Listings'})\n",
    "propty_df.index.name = 'Property Type'\n",
    "propty_df = propty_df.style.format({'Avg List Price': \"${:,.2f}\"})\n",
    "\n",
    "propty_df"
   ]
  },
  {
   "cell_type": "markdown",
   "id": "ca55323b-e0c0-4001-b2f6-bb0b714d2f14",
   "metadata": {},
   "source": [
    "Apartments definitely dominate the available listings space over other property types and garner about $50 more in average list prices than stand alone houses. This is good to know for my investment. While this may be true for Boston overall, let's check in my target neighborhoods."
   ]
  },
  {
   "cell_type": "code",
   "execution_count": 359,
   "id": "7293d2c4-9bfb-4644-864e-da6169184910",
   "metadata": {},
   "outputs": [
    {
     "data": {
      "text/plain": [
       "Text(0, 0.5, 'Mean List Price ($)')"
      ]
     },
     "execution_count": 359,
     "metadata": {},
     "output_type": "execute_result"
    },
    {
     "data": {
      "image/png": "[encoded data removed]",
      "text/plain": [
       "<Figure size 640x480 with 1 Axes>"
      ]
     },
     "metadata": {},
     "output_type": "display_data"
    }
   ],
   "source": [
    "# What if I just wanted to look at\n",
    "propty2 = nbhd_dat.groupby(\n",
    "    nbhd_dat['property_type'])['price'].mean().sort_values()\n",
    "propty2.plot(kind='bar')\n",
    "plt.title('Boston AirBnB Prices by Property Type: Target Neighborhoods')\n",
    "plt.xlabel('')\n",
    "plt.ylabel('Mean List Price ($)')"
   ]
  },
  {
   "cell_type": "markdown",
   "id": "ac627902-3df9-4d32-926d-dc89e15f83f6",
   "metadata": {},
   "source": [
    "My target neighborhoods are telling a different story with houses taking the top spot. Let's check out the granular data in a table to see some extra context."
   ]
  },
  {
   "cell_type": "code",
   "execution_count": 361,
   "id": "739f3e3a-b05c-46d1-b19a-ab76d352c9a1",
   "metadata": {},
   "outputs": [
    {
     "data": {
      "text/html": [
       "<style type=\"text/css\">\n",
       "</style>\n",
       "<table id=\"T_26d96\">\n",
       "  <thead>\n",
       "    <tr>\n",
       "      <th class=\"blank level0\" >&nbsp;</th>\n",
       "      <th id=\"T_26d96_level0_col0\" class=\"col_heading level0 col0\" >Avg List Price</th>\n",
       "      <th id=\"T_26d96_level0_col1\" class=\"col_heading level0 col1\" ># of Listings</th>\n",
       "    </tr>\n",
       "    <tr>\n",
       "      <th class=\"index_name level0\" >Property Type</th>\n",
       "      <th class=\"blank col0\" >&nbsp;</th>\n",
       "      <th class=\"blank col1\" >&nbsp;</th>\n",
       "    </tr>\n",
       "  </thead>\n",
       "  <tbody>\n",
       "    <tr>\n",
       "      <th id=\"T_26d96_level0_row0\" class=\"row_heading level0 row0\" >Bed & Breakfast</th>\n",
       "      <td id=\"T_26d96_row0_col0\" class=\"data row0 col0\" >$95.75</td>\n",
       "      <td id=\"T_26d96_row0_col1\" class=\"data row0 col1\" >4</td>\n",
       "    </tr>\n",
       "    <tr>\n",
       "      <th id=\"T_26d96_level0_row1\" class=\"row_heading level0 row1\" >Other</th>\n",
       "      <td id=\"T_26d96_row1_col0\" class=\"data row1 col0\" >$240.00</td>\n",
       "      <td id=\"T_26d96_row1_col1\" class=\"data row1 col1\" >4</td>\n",
       "    </tr>\n",
       "    <tr>\n",
       "      <th id=\"T_26d96_level0_row2\" class=\"row_heading level0 row2\" >Condominium</th>\n",
       "      <td id=\"T_26d96_row2_col0\" class=\"data row2 col0\" >$240.25</td>\n",
       "      <td id=\"T_26d96_row2_col1\" class=\"data row2 col1\" >32</td>\n",
       "    </tr>\n",
       "    <tr>\n",
       "      <th id=\"T_26d96_level0_row3\" class=\"row_heading level0 row3\" >Loft</th>\n",
       "      <td id=\"T_26d96_row3_col0\" class=\"data row3 col0\" >$241.89</td>\n",
       "      <td id=\"T_26d96_row3_col1\" class=\"data row3 col1\" >18</td>\n",
       "    </tr>\n",
       "    <tr>\n",
       "      <th id=\"T_26d96_level0_row4\" class=\"row_heading level0 row4\" >Apartment</th>\n",
       "      <td id=\"T_26d96_row4_col0\" class=\"data row4 col0\" >$249.01</td>\n",
       "      <td id=\"T_26d96_row4_col1\" class=\"data row4 col1\" >566</td>\n",
       "    </tr>\n",
       "    <tr>\n",
       "      <th id=\"T_26d96_level0_row5\" class=\"row_heading level0 row5\" >Villa</th>\n",
       "      <td id=\"T_26d96_row5_col0\" class=\"data row5 col0\" >$263.50</td>\n",
       "      <td id=\"T_26d96_row5_col1\" class=\"data row5 col1\" >2</td>\n",
       "    </tr>\n",
       "    <tr>\n",
       "      <th id=\"T_26d96_level0_row6\" class=\"row_heading level0 row6\" >Townhouse</th>\n",
       "      <td id=\"T_26d96_row6_col0\" class=\"data row6 col0\" >$283.00</td>\n",
       "      <td id=\"T_26d96_row6_col1\" class=\"data row6 col1\" >3</td>\n",
       "    </tr>\n",
       "    <tr>\n",
       "      <th id=\"T_26d96_level0_row7\" class=\"row_heading level0 row7\" >Guesthouse</th>\n",
       "      <td id=\"T_26d96_row7_col0\" class=\"data row7 col0\" >$289.00</td>\n",
       "      <td id=\"T_26d96_row7_col1\" class=\"data row7 col1\" >1</td>\n",
       "    </tr>\n",
       "    <tr>\n",
       "      <th id=\"T_26d96_level0_row8\" class=\"row_heading level0 row8\" >Boat</th>\n",
       "      <td id=\"T_26d96_row8_col0\" class=\"data row8 col0\" >$345.00</td>\n",
       "      <td id=\"T_26d96_row8_col1\" class=\"data row8 col1\" >1</td>\n",
       "    </tr>\n",
       "    <tr>\n",
       "      <th id=\"T_26d96_level0_row9\" class=\"row_heading level0 row9\" >House</th>\n",
       "      <td id=\"T_26d96_row9_col0\" class=\"data row9 col0\" >$390.00</td>\n",
       "      <td id=\"T_26d96_row9_col1\" class=\"data row9 col1\" >9</td>\n",
       "    </tr>\n",
       "  </tbody>\n",
       "</table>\n"
      ],
      "text/plain": [
       "<pandas.io.formats.style.Styler at 0x17e0fa4a930>"
      ]
     },
     "execution_count": 361,
     "metadata": {},
     "output_type": "execute_result"
    }
   ],
   "source": [
    "# convert series to dataframe for easy table identifying\n",
    "# average prices and count so there's some context to the numbers\n",
    "propty2_prices = propty2.to_frame()\n",
    "# pull the count of listings for each property type,\n",
    "# so I'm not looking at a small sample\n",
    "propty2_cnt = nbhd_dat['property_type'].value_counts()\n",
    "# merge two dataframes to view in one table\n",
    "propty2_df = pd.merge(propty2_prices,\n",
    "                      propty2_cnt, how='left', on='property_type')\n",
    "# format list prices for visual currency, rename columns\n",
    "propty2_df = propty2_df.rename(\n",
    "    columns={'price':'Avg List Price', 'count':'# of Listings'})\n",
    "propty2_df.index.name = 'Property Type'\n",
    "propty2_df = propty2_df.style.format(\n",
    "    {'Avg List Price':\"${:,.2f}\"})\n",
    "\n",
    "propty2_df"
   ]
  },
  {
   "cell_type": "markdown",
   "id": "60b9710e-8841-4e9e-9edc-d9fabb2b146e",
   "metadata": {},
   "source": [
    "I'll potentially want to keep the door open to houses when looking at properties in my neighborhoods, since they garner $140 higher list price on average than apartments. However, there's only 9 houses in my sample, so I'll still be focusing my search on apartments.\n",
    "\n",
    "I've narrowed down my neighborhood search and told my realtor to focus on apartments, but that I don't want to close the door on looking at houses. We're looking at 1 or 3 bedrooms, and going to think about the type of guests I'll be able to accomodate with the available spaces on the market."
   ]
  },
  {
   "cell_type": "markdown",
   "id": "19cbefec-789c-4aa3-a70d-b6b55e98bb52",
   "metadata": {},
   "source": [
    "### Question 3: How can I expect to adjust my prices throughout the year? What is the seasonality by month for list prices?\n",
    "Thinking ahead, I'd like to think of how my prices will fluctuate throughout the year. I've already cordoned off a part of the dataset for my target neighborhoods. Let's merge in the calendar dataset on listing_id to get monthly price insights."
   ]
  },
  {
   "cell_type": "code",
   "execution_count": 363,
   "id": "968e4f12-e695-4828-8136-b3d75277baa4",
   "metadata": {},
   "outputs": [
    {
     "name": "stdout",
     "output_type": "stream",
     "text": [
      "<class 'pandas.core.frame.DataFrame'>\n",
      "Index: 640 entries, 526 to 3118\n",
      "Data columns (total 10 columns):\n",
      " #   Column                  Non-Null Count  Dtype  \n",
      "---  ------                  --------------  -----  \n",
      " 0   listing_id              640 non-null    int64  \n",
      " 1   price                   640 non-null    float64\n",
      " 2   neighbourhood_cleansed  640 non-null    object \n",
      " 3   property_type           640 non-null    object \n",
      " 4   room_type               640 non-null    object \n",
      " 5   accommodates            640 non-null    int64  \n",
      " 6   bathrooms               640 non-null    float64\n",
      " 7   bedrooms                640 non-null    float64\n",
      " 8   beds                    640 non-null    float64\n",
      " 9   review_scores_rating    640 non-null    float64\n",
      "dtypes: float64(5), int64(2), object(3)\n",
      "memory usage: 55.0+ KB\n"
     ]
    }
   ],
   "source": [
    "# Reminding myself what was in the neighborhood subset I created earlier\n",
    "nbhd_dat.info()"
   ]
  },
  {
   "cell_type": "code",
   "execution_count": 365,
   "id": "7c345a0c-bc95-4f85-8de1-a4a22e4db18f",
   "metadata": {},
   "outputs": [
    {
     "name": "stdout",
     "output_type": "stream",
     "text": [
      "<class 'pandas.core.frame.DataFrame'>\n",
      "RangeIndex: 233965 entries, 0 to 233964\n",
      "Data columns (total 15 columns):\n",
      " #   Column                  Non-Null Count   Dtype         \n",
      "---  ------                  --------------   -----         \n",
      " 0   listing_id              233965 non-null  int64         \n",
      " 1   price_x                 233965 non-null  float64       \n",
      " 2   neighbourhood_cleansed  233965 non-null  object        \n",
      " 3   property_type           233965 non-null  object        \n",
      " 4   room_type               233965 non-null  object        \n",
      " 5   accommodates            233965 non-null  int64         \n",
      " 6   bathrooms               233965 non-null  float64       \n",
      " 7   bedrooms                233965 non-null  float64       \n",
      " 8   beds                    233965 non-null  float64       \n",
      " 9   review_scores_rating    233965 non-null  float64       \n",
      " 10  date                    233965 non-null  datetime64[ns]\n",
      " 11  available               233965 non-null  object        \n",
      " 12  price_y                 117977 non-null  float64       \n",
      " 13  day_of_week             233965 non-null  object        \n",
      " 14  month                   233965 non-null  object        \n",
      "dtypes: datetime64[ns](1), float64(6), int64(2), object(6)\n",
      "memory usage: 26.8+ MB\n"
     ]
    }
   ],
   "source": [
    "# merging my neighborhood listings with calendar listing data\n",
    "# luckily I cleaned some of this data early on,\n",
    "# so I don't need to change much\n",
    "bh_cal = pd.merge(nbhd_dat, cal_dat, how='left', on='listing_id')\n",
    "bh_cal.head()\n",
    "bh_cal.info()"
   ]
  },
  {
   "cell_type": "markdown",
   "id": "d7b61011-8a23-492d-80fe-0ffa37a842d9",
   "metadata": {},
   "source": [
    "It looks like there are a lot of prices missing, so let's impute a mean grouping on property features, as well as month and day of week."
   ]
  },
  {
   "cell_type": "code",
   "execution_count": 367,
   "id": "05f93a1b-943f-45f0-a365-a5c331269a2b",
   "metadata": {},
   "outputs": [
    {
     "name": "stdout",
     "output_type": "stream",
     "text": [
      "<class 'pandas.core.frame.DataFrame'>\n",
      "RangeIndex: 233965 entries, 0 to 233964\n",
      "Data columns (total 15 columns):\n",
      " #   Column                  Non-Null Count   Dtype         \n",
      "---  ------                  --------------   -----         \n",
      " 0   listing_id              233965 non-null  int64         \n",
      " 1   price_x                 233965 non-null  float64       \n",
      " 2   neighbourhood_cleansed  233965 non-null  object        \n",
      " 3   property_type           233965 non-null  object        \n",
      " 4   room_type               233965 non-null  object        \n",
      " 5   accommodates            233965 non-null  int64         \n",
      " 6   bathrooms               233965 non-null  float64       \n",
      " 7   bedrooms                233965 non-null  float64       \n",
      " 8   beds                    233965 non-null  float64       \n",
      " 9   review_scores_rating    233965 non-null  float64       \n",
      " 10  date                    233965 non-null  datetime64[ns]\n",
      " 11  available               233965 non-null  object        \n",
      " 12  price_y                 205398 non-null  float64       \n",
      " 13  day_of_week             233965 non-null  object        \n",
      " 14  month                   233965 non-null  object        \n",
      "dtypes: datetime64[ns](1), float64(6), int64(2), object(6)\n",
      "memory usage: 26.8+ MB\n"
     ]
    }
   ],
   "source": [
    "# Initial null prices being imputed with means\n",
    "# grouped based on most property features available\n",
    "bh_cal['price_y'] = bh_cal['price_y'].fillna(bh_cal.groupby(\n",
    "    ['neighbourhood_cleansed','property_type', 'room_type', 'accommodates',\n",
    "    'bathrooms', 'bedrooms', 'month', 'day_of_week'])['price_y'].transform('mean'))\n",
    "bh_cal.info()"
   ]
  },
  {
   "cell_type": "markdown",
   "id": "0812bb44-3eaa-4279-a33a-5af0e8802ed9",
   "metadata": {},
   "source": [
    "There's still some null prices, so let's try grouping the remaining nulls based on a smaller subset of property features."
   ]
  },
  {
   "cell_type": "code",
   "execution_count": 369,
   "id": "3cd265f1-df6a-4732-bfff-2b360bb0391a",
   "metadata": {},
   "outputs": [
    {
     "name": "stdout",
     "output_type": "stream",
     "text": [
      "<class 'pandas.core.frame.DataFrame'>\n",
      "RangeIndex: 233965 entries, 0 to 233964\n",
      "Data columns (total 15 columns):\n",
      " #   Column                  Non-Null Count   Dtype         \n",
      "---  ------                  --------------   -----         \n",
      " 0   listing_id              233965 non-null  int64         \n",
      " 1   price_x                 233965 non-null  float64       \n",
      " 2   neighbourhood_cleansed  233965 non-null  object        \n",
      " 3   property_type           233965 non-null  object        \n",
      " 4   room_type               233965 non-null  object        \n",
      " 5   accommodates            233965 non-null  int64         \n",
      " 6   bathrooms               233965 non-null  float64       \n",
      " 7   bedrooms                233965 non-null  float64       \n",
      " 8   beds                    233965 non-null  float64       \n",
      " 9   review_scores_rating    233965 non-null  float64       \n",
      " 10  date                    233965 non-null  datetime64[ns]\n",
      " 11  available               233965 non-null  object        \n",
      " 12  price_y                 227306 non-null  float64       \n",
      " 13  day_of_week             233965 non-null  object        \n",
      " 14  month                   233965 non-null  object        \n",
      "dtypes: datetime64[ns](1), float64(6), int64(2), object(6)\n",
      "memory usage: 26.8+ MB\n"
     ]
    }
   ],
   "source": [
    "# imputing based on a smaller subset of property features\n",
    "bh_cal['price_y'] = bh_cal['price_y'].fillna(bh_cal.groupby(\n",
    "    ['neighbourhood_cleansed','property_type',\n",
    "    'bedrooms', 'month'])['price_y'].transform('mean'))\n",
    "bh_cal.info()"
   ]
  },
  {
   "cell_type": "markdown",
   "id": "3bd0e6a9-2ed7-4616-b952-40551764239c",
   "metadata": {},
   "source": [
    "There's still some null prices, but I don't want to fasely assign an inappropriate average price, so I'm going to remove the remaining rows with null prices."
   ]
  },
  {
   "cell_type": "code",
   "execution_count": 371,
   "id": "f22b452a-1cc4-44ac-a457-75db4f82c8a9",
   "metadata": {},
   "outputs": [
    {
     "name": "stdout",
     "output_type": "stream",
     "text": [
      "<class 'pandas.core.frame.DataFrame'>\n",
      "Index: 227306 entries, 0 to 233964\n",
      "Data columns (total 15 columns):\n",
      " #   Column                  Non-Null Count   Dtype         \n",
      "---  ------                  --------------   -----         \n",
      " 0   listing_id              227306 non-null  int64         \n",
      " 1   price_x                 227306 non-null  float64       \n",
      " 2   neighbourhood_cleansed  227306 non-null  object        \n",
      " 3   property_type           227306 non-null  object        \n",
      " 4   room_type               227306 non-null  object        \n",
      " 5   accommodates            227306 non-null  int64         \n",
      " 6   bathrooms               227306 non-null  float64       \n",
      " 7   bedrooms                227306 non-null  float64       \n",
      " 8   beds                    227306 non-null  float64       \n",
      " 9   review_scores_rating    227306 non-null  float64       \n",
      " 10  date                    227306 non-null  datetime64[ns]\n",
      " 11  available               227306 non-null  object        \n",
      " 12  price_y                 227306 non-null  float64       \n",
      " 13  day_of_week             227306 non-null  object        \n",
      " 14  month                   227306 non-null  object        \n",
      "dtypes: datetime64[ns](1), float64(6), int64(2), object(6)\n",
      "memory usage: 27.7+ MB\n"
     ]
    }
   ],
   "source": [
    "# removing remaining null prices \n",
    "bh_cal = bh_cal.dropna()\n",
    "bh_cal.info()"
   ]
  },
  {
   "cell_type": "markdown",
   "id": "9b3e1081-c99a-4e8d-934d-a343fc0e1e63",
   "metadata": {},
   "source": [
    "##### Looking at prices by month\n",
    "Now that we've re-cleaned our data, let look into avg list prices at the month level in a bar chart to see when I can expect to charge more or less for my property."
   ]
  },
  {
   "cell_type": "code",
   "execution_count": 373,
   "id": "26b0e90a-eb7a-4c98-a1a5-c4f5dd239bfa",
   "metadata": {},
   "outputs": [
    {
     "data": {
      "text/plain": [
       "Text(0, 0.5, 'Mean List Price ($)')"
      ]
     },
     "execution_count": 373,
     "metadata": {},
     "output_type": "execute_result"
    },
    {
     "data": {
      "image/png": "[encoded data removed]",
      "text/plain": [
       "<Figure size 640x480 with 1 Axes>"
      ]
     },
     "metadata": {},
     "output_type": "display_data"
    }
   ],
   "source": [
    "# Let's plot out the average price by month\n",
    "bh_month = bh_cal.groupby(\n",
    "    bh_cal['month'])['price_y'].mean().sort_values()\n",
    "bh_month.plot(kind='bar')\n",
    "\n",
    "plt.suptitle('Boston AirBnB Prices by Month')\n",
    "plt.title('South Boston Waterfront, Bay Village, Leather District, Back Bay, Chinatown, and Downtown Neighborhoods')\n",
    "plt.xlabel('')\n",
    "plt.ylabel('Mean List Price ($)')"
   ]
  },
  {
   "cell_type": "markdown",
   "id": "12f7f388-7a65-403c-b27b-ef084b23297c",
   "metadata": {},
   "source": [
    "It looks like early fall is definitely a good time of year for guests, while the cold Boston winters are impacting prices once the temperature starts dropping in November/December. Spring/Summer looks pretty consistent - I'll probably want to set my base price for those months, and adjust from there. Let's check out the granularity in  a table just in case though."
   ]
  },
  {
   "cell_type": "code",
   "execution_count": 375,
   "id": "245a2543-e4dc-4f2e-8e07-ac0367bedc74",
   "metadata": {},
   "outputs": [
    {
     "data": {
      "text/html": [
       "<style type=\"text/css\">\n",
       "</style>\n",
       "<table id=\"T_d1963\">\n",
       "  <thead>\n",
       "    <tr>\n",
       "      <th class=\"blank level0\" >&nbsp;</th>\n",
       "      <th id=\"T_d1963_level0_col0\" class=\"col_heading level0 col0\" >Avg List Price</th>\n",
       "      <th id=\"T_d1963_level0_col1\" class=\"col_heading level0 col1\" ># of Listings</th>\n",
       "    </tr>\n",
       "    <tr>\n",
       "      <th class=\"index_name level0\" >Month</th>\n",
       "      <th class=\"blank col0\" >&nbsp;</th>\n",
       "      <th class=\"blank col1\" >&nbsp;</th>\n",
       "    </tr>\n",
       "  </thead>\n",
       "  <tbody>\n",
       "    <tr>\n",
       "      <th id=\"T_d1963_level0_row0\" class=\"row_heading level0 row0\" >February</th>\n",
       "      <td id=\"T_d1963_row0_col0\" class=\"data row0 col0\" >$253.45</td>\n",
       "      <td id=\"T_d1963_row0_col1\" class=\"data row0 col1\" >17304</td>\n",
       "    </tr>\n",
       "    <tr>\n",
       "      <th id=\"T_d1963_level0_row1\" class=\"row_heading level0 row1\" >January</th>\n",
       "      <td id=\"T_d1963_row1_col0\" class=\"data row1 col0\" >$254.55</td>\n",
       "      <td id=\"T_d1963_row1_col1\" class=\"data row1 col1\" >19251</td>\n",
       "    </tr>\n",
       "    <tr>\n",
       "      <th id=\"T_d1963_level0_row2\" class=\"row_heading level0 row2\" >December</th>\n",
       "      <td id=\"T_d1963_row2_col0\" class=\"data row2 col0\" >$260.58</td>\n",
       "      <td id=\"T_d1963_row2_col1\" class=\"data row2 col1\" >19499</td>\n",
       "    </tr>\n",
       "    <tr>\n",
       "      <th id=\"T_d1963_level0_row3\" class=\"row_heading level0 row3\" >March</th>\n",
       "      <td id=\"T_d1963_row3_col0\" class=\"data row3 col0\" >$261.98</td>\n",
       "      <td id=\"T_d1963_row3_col1\" class=\"data row3 col1\" >19158</td>\n",
       "    </tr>\n",
       "    <tr>\n",
       "      <th id=\"T_d1963_level0_row4\" class=\"row_heading level0 row4\" >November</th>\n",
       "      <td id=\"T_d1963_row4_col0\" class=\"data row4 col0\" >$288.36</td>\n",
       "      <td id=\"T_d1963_row4_col1\" class=\"data row4 col1\" >18900</td>\n",
       "    </tr>\n",
       "    <tr>\n",
       "      <th id=\"T_d1963_level0_row5\" class=\"row_heading level0 row5\" >August</th>\n",
       "      <td id=\"T_d1963_row5_col0\" class=\"data row5 col0\" >$295.50</td>\n",
       "      <td id=\"T_d1963_row5_col1\" class=\"data row5 col1\" >19251</td>\n",
       "    </tr>\n",
       "    <tr>\n",
       "      <th id=\"T_d1963_level0_row6\" class=\"row_heading level0 row6\" >June</th>\n",
       "      <td id=\"T_d1963_row6_col0\" class=\"data row6 col0\" >$296.24</td>\n",
       "      <td id=\"T_d1963_row6_col1\" class=\"data row6 col1\" >18540</td>\n",
       "    </tr>\n",
       "    <tr>\n",
       "      <th id=\"T_d1963_level0_row7\" class=\"row_heading level0 row7\" >May</th>\n",
       "      <td id=\"T_d1963_row7_col0\" class=\"data row7 col0\" >$296.83</td>\n",
       "      <td id=\"T_d1963_row7_col1\" class=\"data row7 col1\" >19065</td>\n",
       "    </tr>\n",
       "    <tr>\n",
       "      <th id=\"T_d1963_level0_row8\" class=\"row_heading level0 row8\" >April</th>\n",
       "      <td id=\"T_d1963_row8_col0\" class=\"data row8 col0\" >$296.86</td>\n",
       "      <td id=\"T_d1963_row8_col1\" class=\"data row8 col1\" >18540</td>\n",
       "    </tr>\n",
       "    <tr>\n",
       "      <th id=\"T_d1963_level0_row9\" class=\"row_heading level0 row9\" >July</th>\n",
       "      <td id=\"T_d1963_row9_col0\" class=\"data row9 col0\" >$298.71</td>\n",
       "      <td id=\"T_d1963_row9_col1\" class=\"data row9 col1\" >19282</td>\n",
       "    </tr>\n",
       "    <tr>\n",
       "      <th id=\"T_d1963_level0_row10\" class=\"row_heading level0 row10\" >September</th>\n",
       "      <td id=\"T_d1963_row10_col0\" class=\"data row10 col0\" >$314.64</td>\n",
       "      <td id=\"T_d1963_row10_col1\" class=\"data row10 col1\" >19110</td>\n",
       "    </tr>\n",
       "    <tr>\n",
       "      <th id=\"T_d1963_level0_row11\" class=\"row_heading level0 row11\" >October</th>\n",
       "      <td id=\"T_d1963_row11_col0\" class=\"data row11 col0\" >$322.61</td>\n",
       "      <td id=\"T_d1963_row11_col1\" class=\"data row11 col1\" >19406</td>\n",
       "    </tr>\n",
       "  </tbody>\n",
       "</table>\n"
      ],
      "text/plain": [
       "<pandas.io.formats.style.Styler at 0x17e04e53830>"
      ]
     },
     "execution_count": 375,
     "metadata": {},
     "output_type": "execute_result"
    }
   ],
   "source": [
    "# convert series to dataframe for easy table identifying\n",
    "# average prices and count so there's some context to the numbers\n",
    "bh_month_prices = bh_month.to_frame()\n",
    "# pull the count of listings in each neighborhood,\n",
    "# so I'm not looking at a small sample\n",
    "month_cnt = bh_cal['month'].value_counts()\n",
    "# merge two dataframes to view in one table\n",
    "month_df = pd.merge(bh_month_prices, month_cnt, how='left', on='month')\n",
    "# format list prices for visual currency, rename columns\n",
    "month_df = month_df.rename(columns={'price_y':'Avg List Price', 'count':'# of Listings'})\n",
    "month_df.index.name = 'Month'\n",
    "month_df = month_df.style.format({'Avg List Price':\"${:,.2f}\"})\n",
    "\n",
    "month_df"
   ]
  },
  {
   "cell_type": "markdown",
   "id": "7bc78e1b-8266-4988-a442-436728068988",
   "metadata": {},
   "source": [
    "I'll definitely want to set my initial prices for spring and summer months, with discounts for winter, and upcharges for early fall. Once I secure a property and set it up to start booking guests, I'll come back to look at how to adjust my prices for certain days of the week and holidays."
   ]
  },
  {
   "cell_type": "code",
   "execution_count": null,
   "id": "e7cfc8c1-2fc7-48a9-8d00-990d30004c18",
   "metadata": {},
   "outputs": [],
   "source": []
  }
 ],
 "metadata": {
  "kernelspec": {
   "display_name": "Python [conda env:base] *",
   "language": "python",
   "name": "conda-base-py"
  },
  "language_info": {
   "codemirror_mode": {
    "name": "ipython",
    "version": 3
   },
   "file_extension": ".py",
   "mimetype": "text/x-python",
   "name": "python",
   "nbconvert_exporter": "python",
   "pygments_lexer": "ipython3",
   "version": "3.12.7"
  }
 },
 "nbformat": 4,
 "nbformat_minor": 5
}
